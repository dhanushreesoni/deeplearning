{
  "nbformat": 4,
  "nbformat_minor": 0,
  "metadata": {
    "kernelspec": {
      "display_name": "Python 3",
      "language": "python",
      "name": "python3"
    },
    "language_info": {
      "codemirror_mode": {
        "name": "ipython",
        "version": 3
      },
      "file_extension": ".py",
      "mimetype": "text/x-python",
      "name": "python",
      "nbconvert_exporter": "python",
      "pygments_lexer": "ipython3",
      "version": "3.7.4"
    },
    "colab": {
      "name": "cloudClassification.ipynb",
      "provenance": [],
      "collapsed_sections": [],
      "toc_visible": true,
      "include_colab_link": true
    }
  },
  "cells": [
    {
      "cell_type": "markdown",
      "metadata": {
        "id": "view-in-github",
        "colab_type": "text"
      },
      "source": [
        "<a href=\"https://colab.research.google.com/github/dhanushreesoni/deeplearning/blob/master/cloudClassification.ipynb\" target=\"_parent\"><img src=\"https://colab.research.google.com/assets/colab-badge.svg\" alt=\"Open In Colab\"/></a>"
      ]
    },
    {
      "cell_type": "code",
      "metadata": {
        "id": "xHUzka2FMC98",
        "colab_type": "code",
        "outputId": "d31766b4-803d-4049-90b8-57250e989444",
        "colab": {
          "base_uri": "https://localhost:8080/",
          "height": 34
        }
      },
      "source": [
        "from keras.models import Sequential,load_model\n",
        "from keras.layers import Conv3D, MaxPooling2D, Dropout, Dense, Flatten\n",
        "from keras.utils import np_utils"
      ],
      "execution_count": 2,
      "outputs": [
        {
          "output_type": "stream",
          "text": [
            "Using TensorFlow backend.\n"
          ],
          "name": "stderr"
        }
      ]
    },
    {
      "cell_type": "code",
      "metadata": {
        "id": "Id4Q4wVh8Xv-",
        "colab_type": "code",
        "outputId": "73dc5bdc-40ba-40eb-ade0-7eccb3ae4c08",
        "colab": {
          "base_uri": "https://localhost:8080/",
          "height": 34
        }
      },
      "source": [
        "%tensorflow_version 1.x"
      ],
      "execution_count": 1,
      "outputs": [
        {
          "output_type": "stream",
          "text": [
            "TensorFlow 1.x selected.\n"
          ],
          "name": "stdout"
        }
      ]
    },
    {
      "cell_type": "code",
      "metadata": {
        "id": "fYrWD_oJAZWf",
        "colab_type": "code",
        "outputId": "d8491524-942c-4597-cad9-7afd2978fb4d",
        "colab": {
          "base_uri": "https://localhost:8080/",
          "height": 34
        }
      },
      "source": [
        "import tensorflow\n",
        "tensorflow.__version__"
      ],
      "execution_count": 3,
      "outputs": [
        {
          "output_type": "execute_result",
          "data": {
            "text/plain": [
              "'1.15.2'"
            ]
          },
          "metadata": {
            "tags": []
          },
          "execution_count": 3
        }
      ]
    },
    {
      "cell_type": "code",
      "metadata": {
        "id": "5CZUYEMLMVn_",
        "colab_type": "code",
        "outputId": "a45adbc2-b5d7-495a-c67e-436212f2d9e2",
        "colab": {
          "base_uri": "https://localhost:8080/",
          "height": 122
        }
      },
      "source": [
        "#mounting colab to the drive \n",
        "from google.colab import drive\n",
        "drive.mount('/content/drive')"
      ],
      "execution_count": 7,
      "outputs": [
        {
          "output_type": "stream",
          "text": [
            "Go to this URL in a browser: https://accounts.google.com/o/oauth2/auth?client_id=947318989803-6bn6qk8qdgf4n4g3pfee6491hc0brc4i.apps.googleusercontent.com&redirect_uri=urn%3aietf%3awg%3aoauth%3a2.0%3aoob&response_type=code&scope=email%20https%3a%2f%2fwww.googleapis.com%2fauth%2fdocs.test%20https%3a%2f%2fwww.googleapis.com%2fauth%2fdrive%20https%3a%2f%2fwww.googleapis.com%2fauth%2fdrive.photos.readonly%20https%3a%2f%2fwww.googleapis.com%2fauth%2fpeopleapi.readonly\n",
            "\n",
            "Enter your authorization code:\n",
            "··········\n",
            "Mounted at /content/drive\n"
          ],
          "name": "stdout"
        }
      ]
    },
    {
      "cell_type": "code",
      "metadata": {
        "id": "vpOJRpjWMC-G",
        "colab_type": "code",
        "colab": {}
      },
      "source": [
        "import os,cv2\n",
        "import numpy as np\n",
        "import matplotlib.pyplot as plt\n",
        "import theano\n",
        "from PIL import Image\n",
        "from sklearn.utils import shuffle\n",
        "from sklearn.model_selection import train_test_split"
      ],
      "execution_count": 0,
      "outputs": []
    },
    {
      "cell_type": "code",
      "metadata": {
        "id": "rX0bSlOyMC-N",
        "colab_type": "code",
        "colab": {}
      },
      "source": [
        "path = '/content/drive/My Drive/Projects/data'"
      ],
      "execution_count": 0,
      "outputs": []
    },
    {
      "cell_type": "code",
      "metadata": {
        "id": "EKoSv7HAMC-U",
        "colab_type": "code",
        "colab": {}
      },
      "source": [
        "listing = os.listdir(path)"
      ],
      "execution_count": 0,
      "outputs": []
    },
    {
      "cell_type": "code",
      "metadata": {
        "id": "EeAS2926MC-Z",
        "colab_type": "code",
        "colab": {}
      },
      "source": [
        "listing.sort()"
      ],
      "execution_count": 0,
      "outputs": []
    },
    {
      "cell_type": "code",
      "metadata": {
        "id": "Mgn7iJtsMC-e",
        "colab_type": "code",
        "outputId": "19c68dad-03fc-4e17-cace-d3965bf0cf1c",
        "colab": {
          "base_uri": "https://localhost:8080/",
          "height": 1000
        }
      },
      "source": [
        "listing"
      ],
      "execution_count": 11,
      "outputs": [
        {
          "output_type": "execute_result",
          "data": {
            "text/plain": [
              "['A_100img.png',\n",
              " 'A_101img.png',\n",
              " 'A_102img.png',\n",
              " 'A_103img.png',\n",
              " 'A_104img.png',\n",
              " 'A_105img.png',\n",
              " 'A_106img.png',\n",
              " 'A_107img.png',\n",
              " 'A_108img.png',\n",
              " 'A_109img.png',\n",
              " 'A_10img.png',\n",
              " 'A_110img.png',\n",
              " 'A_111img.png',\n",
              " 'A_112img.png',\n",
              " 'A_113img.png',\n",
              " 'A_114img.png',\n",
              " 'A_115img.png',\n",
              " 'A_116img.png',\n",
              " 'A_117img.png',\n",
              " 'A_118img.png',\n",
              " 'A_119img.png',\n",
              " 'A_11img.png',\n",
              " 'A_120img.png',\n",
              " 'A_121img.png',\n",
              " 'A_122img.png',\n",
              " 'A_123img.png',\n",
              " 'A_124img.png',\n",
              " 'A_125img.png',\n",
              " 'A_126img.png',\n",
              " 'A_127img.png',\n",
              " 'A_128img.png',\n",
              " 'A_129img.png',\n",
              " 'A_12img.png',\n",
              " 'A_130img.png',\n",
              " 'A_131img.png',\n",
              " 'A_132img.png',\n",
              " 'A_133img.png',\n",
              " 'A_134img.png',\n",
              " 'A_135img.png',\n",
              " 'A_136img.png',\n",
              " 'A_137img.png',\n",
              " 'A_138img.png',\n",
              " 'A_139img.png',\n",
              " 'A_13img.png',\n",
              " 'A_140img.png',\n",
              " 'A_141img.png',\n",
              " 'A_142img.png',\n",
              " 'A_143img.png',\n",
              " 'A_144img.png',\n",
              " 'A_145img.png',\n",
              " 'A_146img.png',\n",
              " 'A_147img.png',\n",
              " 'A_148img.png',\n",
              " 'A_149img.png',\n",
              " 'A_14img.png',\n",
              " 'A_150img.png',\n",
              " 'A_151img.png',\n",
              " 'A_152img.png',\n",
              " 'A_153img.png',\n",
              " 'A_154img.png',\n",
              " 'A_155img.png',\n",
              " 'A_156img.png',\n",
              " 'A_157img.png',\n",
              " 'A_158img.png',\n",
              " 'A_159img.png',\n",
              " 'A_15img.png',\n",
              " 'A_160img.png',\n",
              " 'A_161img.png',\n",
              " 'A_162img.png',\n",
              " 'A_163img.png',\n",
              " 'A_164img.png',\n",
              " 'A_165img.png',\n",
              " 'A_166img.png',\n",
              " 'A_167img.png',\n",
              " 'A_168img.png',\n",
              " 'A_169img.png',\n",
              " 'A_16img.png',\n",
              " 'A_170img.png',\n",
              " 'A_171img.png',\n",
              " 'A_172img.png',\n",
              " 'A_173img.png',\n",
              " 'A_174img.png',\n",
              " 'A_175img.png',\n",
              " 'A_176img.png',\n",
              " 'A_177img.png',\n",
              " 'A_178img.png',\n",
              " 'A_179img.png',\n",
              " 'A_17img.png',\n",
              " 'A_180img.png',\n",
              " 'A_181img.png',\n",
              " 'A_182img.png',\n",
              " 'A_183img.png',\n",
              " 'A_184img.png',\n",
              " 'A_185img.png',\n",
              " 'A_186img.png',\n",
              " 'A_187img.png',\n",
              " 'A_188img.png',\n",
              " 'A_189img.png',\n",
              " 'A_18img.png',\n",
              " 'A_190img.png',\n",
              " 'A_191img.png',\n",
              " 'A_192img.png',\n",
              " 'A_193img.png',\n",
              " 'A_194img.png',\n",
              " 'A_195img.png',\n",
              " 'A_196img.png',\n",
              " 'A_197img.png',\n",
              " 'A_198img.png',\n",
              " 'A_199img.png',\n",
              " 'A_19img.png',\n",
              " 'A_1img.png',\n",
              " 'A_200img.png',\n",
              " 'A_201img.png',\n",
              " 'A_202img.png',\n",
              " 'A_203img.png',\n",
              " 'A_204img.png',\n",
              " 'A_205img.png',\n",
              " 'A_206img.png',\n",
              " 'A_207img.png',\n",
              " 'A_208img.png',\n",
              " 'A_209img.png',\n",
              " 'A_20img.png',\n",
              " 'A_210img.png',\n",
              " 'A_211img.png',\n",
              " 'A_212img.png',\n",
              " 'A_213img.png',\n",
              " 'A_214img.png',\n",
              " 'A_215img.png',\n",
              " 'A_216img.png',\n",
              " 'A_217img.png',\n",
              " 'A_218img.png',\n",
              " 'A_219img.png',\n",
              " 'A_21img.png',\n",
              " 'A_220img.png',\n",
              " 'A_221img.png',\n",
              " 'A_222img.png',\n",
              " 'A_223img.png',\n",
              " 'A_224img.png',\n",
              " 'A_22img.png',\n",
              " 'A_23img.png',\n",
              " 'A_24img.png',\n",
              " 'A_25img.png',\n",
              " 'A_26img.png',\n",
              " 'A_27img.png',\n",
              " 'A_28img.png',\n",
              " 'A_29img.png',\n",
              " 'A_2img.png',\n",
              " 'A_30img.png',\n",
              " 'A_31img.png',\n",
              " 'A_32img.png',\n",
              " 'A_33img.png',\n",
              " 'A_34img.png',\n",
              " 'A_35img.png',\n",
              " 'A_36img.png',\n",
              " 'A_37img.png',\n",
              " 'A_38img.png',\n",
              " 'A_39img.png',\n",
              " 'A_3img.png',\n",
              " 'A_40img.png',\n",
              " 'A_41img.png',\n",
              " 'A_42img.png',\n",
              " 'A_43img.png',\n",
              " 'A_44img.png',\n",
              " 'A_45img.png',\n",
              " 'A_46img.png',\n",
              " 'A_47img.png',\n",
              " 'A_48img.png',\n",
              " 'A_49img.png',\n",
              " 'A_4img.png',\n",
              " 'A_50img.png',\n",
              " 'A_51img.png',\n",
              " 'A_52img.png',\n",
              " 'A_53img.png',\n",
              " 'A_54img.png',\n",
              " 'A_55img.png',\n",
              " 'A_56img.png',\n",
              " 'A_57img.png',\n",
              " 'A_58img.png',\n",
              " 'A_59img.png',\n",
              " 'A_5img.png',\n",
              " 'A_60img.png',\n",
              " 'A_61img.png',\n",
              " 'A_62img.png',\n",
              " 'A_63img.png',\n",
              " 'A_64img.png',\n",
              " 'A_65img.png',\n",
              " 'A_66img.png',\n",
              " 'A_67img.png',\n",
              " 'A_68img.png',\n",
              " 'A_69img.png',\n",
              " 'A_6img.png',\n",
              " 'A_70img.png',\n",
              " 'A_71img.png',\n",
              " 'A_72img.png',\n",
              " 'A_73img.png',\n",
              " 'A_74img.png',\n",
              " 'A_75img.png',\n",
              " 'A_76img.png',\n",
              " 'A_77img.png',\n",
              " 'A_78img.png',\n",
              " 'A_79img.png',\n",
              " 'A_7img.png',\n",
              " 'A_80img.png',\n",
              " 'A_81img.png',\n",
              " 'A_82img.png',\n",
              " 'A_83img.png',\n",
              " 'A_84img.png',\n",
              " 'A_85img.png',\n",
              " 'A_86img.png',\n",
              " 'A_87img.png',\n",
              " 'A_88img.png',\n",
              " 'A_89img.png',\n",
              " 'A_8img.png',\n",
              " 'A_90img.png',\n",
              " 'A_91img.png',\n",
              " 'A_92img.png',\n",
              " 'A_93img.png',\n",
              " 'A_94img.png',\n",
              " 'A_95img.png',\n",
              " 'A_96img.png',\n",
              " 'A_97img.png',\n",
              " 'A_98img.png',\n",
              " 'A_99img.png',\n",
              " 'A_9img.png',\n",
              " 'B_10img.png',\n",
              " 'B_11img.png',\n",
              " 'B_12img.png',\n",
              " 'B_13img.png',\n",
              " 'B_14img.png',\n",
              " 'B_15img.png',\n",
              " 'B_16img.png',\n",
              " 'B_17img.png',\n",
              " 'B_18img.png',\n",
              " 'B_19img.png',\n",
              " 'B_1img.png',\n",
              " 'B_20img.png',\n",
              " 'B_21img.png',\n",
              " 'B_22img.png',\n",
              " 'B_23img.png',\n",
              " 'B_24img.png',\n",
              " 'B_25img.png',\n",
              " 'B_26img.png',\n",
              " 'B_27img.png',\n",
              " 'B_28img.png',\n",
              " 'B_29img.png',\n",
              " 'B_2img.png',\n",
              " 'B_30img.png',\n",
              " 'B_31img.png',\n",
              " 'B_32img.png',\n",
              " 'B_33img.png',\n",
              " 'B_34img.png',\n",
              " 'B_35img.png',\n",
              " 'B_36img.png',\n",
              " 'B_37img.png',\n",
              " 'B_38img.png',\n",
              " 'B_39img.png',\n",
              " 'B_3img.png',\n",
              " 'B_40img.png',\n",
              " 'B_41img.png',\n",
              " 'B_42img.png',\n",
              " 'B_43img.png',\n",
              " 'B_44img.png',\n",
              " 'B_45img.png',\n",
              " 'B_46img.png',\n",
              " 'B_47img.png',\n",
              " 'B_48img.png',\n",
              " 'B_49img.png',\n",
              " 'B_4img.png',\n",
              " 'B_50img.png',\n",
              " 'B_51img.png',\n",
              " 'B_52img.png',\n",
              " 'B_53img.png',\n",
              " 'B_54img.png',\n",
              " 'B_55img.png',\n",
              " 'B_56img.png',\n",
              " 'B_57img.png',\n",
              " 'B_58img.png',\n",
              " 'B_59img.png',\n",
              " 'B_5img.png',\n",
              " 'B_60img.png',\n",
              " 'B_61img.png',\n",
              " 'B_62img.png',\n",
              " 'B_63img.png',\n",
              " 'B_64img.png',\n",
              " 'B_65img.png',\n",
              " 'B_66img.png',\n",
              " 'B_67img.png',\n",
              " 'B_68img.png',\n",
              " 'B_69img.png',\n",
              " 'B_6img.png',\n",
              " 'B_70img.png',\n",
              " 'B_71img.png',\n",
              " 'B_72img.png',\n",
              " 'B_73img.png',\n",
              " 'B_74img.png',\n",
              " 'B_75img.png',\n",
              " 'B_76img.png',\n",
              " 'B_77img.png',\n",
              " 'B_78img.png',\n",
              " 'B_79img.png',\n",
              " 'B_7img.png',\n",
              " 'B_80img.png',\n",
              " 'B_81img.png',\n",
              " 'B_82img.png',\n",
              " 'B_83img.png',\n",
              " 'B_84img.png',\n",
              " 'B_85img.png',\n",
              " 'B_86img.png',\n",
              " 'B_87img.png',\n",
              " 'B_88img.png',\n",
              " 'B_89img.png',\n",
              " 'B_8img.png',\n",
              " 'B_9img.png',\n",
              " 'C_100img.png',\n",
              " 'C_101img.png',\n",
              " 'C_102img.png',\n",
              " 'C_103img.png',\n",
              " 'C_104img.png',\n",
              " 'C_105img.png',\n",
              " 'C_106img.png',\n",
              " 'C_107img.png',\n",
              " 'C_108img.png',\n",
              " 'C_109img.png',\n",
              " 'C_10img.png',\n",
              " 'C_110img.png',\n",
              " 'C_111img.png',\n",
              " 'C_112img.png',\n",
              " 'C_113img.png',\n",
              " 'C_114img.png',\n",
              " 'C_115img.png',\n",
              " 'C_116img.png',\n",
              " 'C_117img.png',\n",
              " 'C_118img.png',\n",
              " 'C_119img.png',\n",
              " 'C_11img.png',\n",
              " 'C_120img.png',\n",
              " 'C_121img.png',\n",
              " 'C_122img.png',\n",
              " 'C_123img.png',\n",
              " 'C_124img.png',\n",
              " 'C_125img.png',\n",
              " 'C_126img.png',\n",
              " 'C_127img.png',\n",
              " 'C_128img.png',\n",
              " 'C_129img.png',\n",
              " 'C_12img.png',\n",
              " 'C_130img.png',\n",
              " 'C_131img.png',\n",
              " 'C_132img.png',\n",
              " 'C_133img.png',\n",
              " 'C_134img.png',\n",
              " 'C_135img.png',\n",
              " 'C_136img.png',\n",
              " 'C_137img.png',\n",
              " 'C_138img.png',\n",
              " 'C_139img.png',\n",
              " 'C_13img.png',\n",
              " 'C_140img.png',\n",
              " 'C_141img.png',\n",
              " 'C_142img.png',\n",
              " 'C_143img.png',\n",
              " 'C_144img.png',\n",
              " 'C_145img.png',\n",
              " 'C_146img.png',\n",
              " 'C_147img.png',\n",
              " 'C_148img.png',\n",
              " 'C_149img.png',\n",
              " 'C_14img.png',\n",
              " 'C_150img.png',\n",
              " 'C_151img.png',\n",
              " 'C_152img.png',\n",
              " 'C_153img.png',\n",
              " 'C_154img.png',\n",
              " 'C_155img.png',\n",
              " 'C_156img.png',\n",
              " 'C_157img.png',\n",
              " 'C_158img.png',\n",
              " 'C_159img.png',\n",
              " 'C_15img.png',\n",
              " 'C_160img.png',\n",
              " 'C_161img.png',\n",
              " 'C_162img.png',\n",
              " 'C_163img.png',\n",
              " 'C_164img.png',\n",
              " 'C_165img.png',\n",
              " 'C_166img.png',\n",
              " 'C_167img.png',\n",
              " 'C_168img.png',\n",
              " 'C_169img.png',\n",
              " 'C_16img.png',\n",
              " 'C_170img.png',\n",
              " 'C_171img.png',\n",
              " 'C_172img.png',\n",
              " 'C_173img.png',\n",
              " 'C_174img.png',\n",
              " 'C_175img.png',\n",
              " 'C_176img.png',\n",
              " 'C_177img.png',\n",
              " 'C_178img.png',\n",
              " 'C_179img.png',\n",
              " 'C_17img.png',\n",
              " 'C_180img.png',\n",
              " 'C_181img.png',\n",
              " 'C_182img.png',\n",
              " 'C_183img.png',\n",
              " 'C_184img.png',\n",
              " 'C_185img.png',\n",
              " 'C_186img.png',\n",
              " 'C_187img.png',\n",
              " 'C_188img.png',\n",
              " 'C_189img.png',\n",
              " 'C_18img.png',\n",
              " 'C_190img.png',\n",
              " 'C_191img.png',\n",
              " 'C_192img.png',\n",
              " 'C_193img.png',\n",
              " 'C_194img.png',\n",
              " 'C_195img.png',\n",
              " 'C_196img.png',\n",
              " 'C_197img.png',\n",
              " 'C_198img.png',\n",
              " 'C_199img.png',\n",
              " 'C_19img.png',\n",
              " 'C_1img.png',\n",
              " 'C_200img.png',\n",
              " 'C_201img.png',\n",
              " 'C_202img.png',\n",
              " 'C_203img.png',\n",
              " 'C_204img.png',\n",
              " 'C_205img.png',\n",
              " 'C_206img.png',\n",
              " 'C_207img.png',\n",
              " 'C_208img.png',\n",
              " 'C_209img.png',\n",
              " 'C_20img.png',\n",
              " 'C_210img.png',\n",
              " 'C_211img.png',\n",
              " 'C_212img.png',\n",
              " 'C_213img.png',\n",
              " 'C_214img.png',\n",
              " 'C_215img.png',\n",
              " 'C_216img.png',\n",
              " 'C_217img.png',\n",
              " 'C_218img.png',\n",
              " 'C_219img.png',\n",
              " 'C_21img.png',\n",
              " 'C_220img.png',\n",
              " 'C_221img.png',\n",
              " 'C_222img.png',\n",
              " 'C_223img.png',\n",
              " 'C_224img.png',\n",
              " 'C_225img.png',\n",
              " 'C_226img.png',\n",
              " 'C_227img.png',\n",
              " 'C_228img.png',\n",
              " 'C_229img.png',\n",
              " 'C_22img.png',\n",
              " 'C_230img.png',\n",
              " 'C_231img.png',\n",
              " 'C_232img.png',\n",
              " 'C_233img.png',\n",
              " 'C_234img.png',\n",
              " 'C_235img.png',\n",
              " 'C_236img.png',\n",
              " 'C_237img.png',\n",
              " 'C_238img.png',\n",
              " 'C_239img.png',\n",
              " 'C_23img.png',\n",
              " 'C_240img.png',\n",
              " 'C_241img.png',\n",
              " 'C_242img.png',\n",
              " 'C_243img.png',\n",
              " 'C_244img.png',\n",
              " 'C_245img.png',\n",
              " 'C_246img.png',\n",
              " 'C_247img.png',\n",
              " 'C_248img.png',\n",
              " 'C_249img.png',\n",
              " 'C_24img.png',\n",
              " 'C_250img.png',\n",
              " 'C_251img.png',\n",
              " 'C_25img.png',\n",
              " 'C_26img.png',\n",
              " 'C_27img.png',\n",
              " 'C_28img.png',\n",
              " 'C_29img.png',\n",
              " 'C_2img.png',\n",
              " 'C_30img.png',\n",
              " 'C_31img.png',\n",
              " 'C_32img.png',\n",
              " 'C_33img.png',\n",
              " 'C_34img.png',\n",
              " 'C_35img.png',\n",
              " 'C_36img.png',\n",
              " 'C_37img.png',\n",
              " 'C_38img.png',\n",
              " 'C_39img.png',\n",
              " 'C_3img.png',\n",
              " 'C_40img.png',\n",
              " 'C_41img.png',\n",
              " 'C_42img.png',\n",
              " 'C_43img.png',\n",
              " 'C_44img.png',\n",
              " 'C_45img.png',\n",
              " 'C_46img.png',\n",
              " 'C_47img.png',\n",
              " 'C_48img.png',\n",
              " 'C_49img.png',\n",
              " 'C_4img.png',\n",
              " 'C_50img.png',\n",
              " 'C_51img.png',\n",
              " 'C_52img.png',\n",
              " 'C_53img.png',\n",
              " 'C_54img.png',\n",
              " 'C_55img.png',\n",
              " 'C_56img.png',\n",
              " 'C_57img.png',\n",
              " 'C_58img.png',\n",
              " 'C_59img.png',\n",
              " 'C_5img.png',\n",
              " 'C_60img.png',\n",
              " 'C_61img.png',\n",
              " 'C_62img.png',\n",
              " 'C_63img.png',\n",
              " 'C_64img.png',\n",
              " 'C_65img.png',\n",
              " 'C_66img.png',\n",
              " 'C_67img.png',\n",
              " 'C_68img.png',\n",
              " 'C_69img.png',\n",
              " 'C_6img.png',\n",
              " 'C_70img.png',\n",
              " 'C_71img.png',\n",
              " 'C_72img.png',\n",
              " 'C_73img.png',\n",
              " 'C_74img.png',\n",
              " 'C_75img.png',\n",
              " 'C_76img.png',\n",
              " 'C_77img.png',\n",
              " 'C_78img.png',\n",
              " 'C_79img.png',\n",
              " 'C_7img.png',\n",
              " 'C_80img.png',\n",
              " 'C_81img.png',\n",
              " 'C_82img.png',\n",
              " 'C_83img.png',\n",
              " 'C_84img.png',\n",
              " 'C_85img.png',\n",
              " 'C_86img.png',\n",
              " 'C_87img.png',\n",
              " 'C_88img.png',\n",
              " 'C_89img.png',\n",
              " 'C_8img.png',\n",
              " 'C_90img.png',\n",
              " 'C_91img.png',\n",
              " 'C_92img.png',\n",
              " 'C_93img.png',\n",
              " 'C_94img.png',\n",
              " 'C_95img.png',\n",
              " 'C_96img.png',\n",
              " 'C_97img.png',\n",
              " 'C_98img.png',\n",
              " 'C_99img.png',\n",
              " 'C_9img.png',\n",
              " 'D_100img.png',\n",
              " 'D_101img.png',\n",
              " 'D_102img.png',\n",
              " 'D_103img.png',\n",
              " 'D_104img.png',\n",
              " 'D_105img.png',\n",
              " 'D_106img.png',\n",
              " 'D_107img.png',\n",
              " 'D_108img.png',\n",
              " 'D_109img.png',\n",
              " 'D_10img.png',\n",
              " 'D_110img.png',\n",
              " 'D_111img.png',\n",
              " 'D_112img.png',\n",
              " 'D_113img.png',\n",
              " 'D_114img.png',\n",
              " 'D_115img.png',\n",
              " 'D_116img.png',\n",
              " 'D_117img.png',\n",
              " 'D_118img.png',\n",
              " 'D_119img.png',\n",
              " 'D_11img.png',\n",
              " 'D_120img.png',\n",
              " 'D_121img.png',\n",
              " 'D_122img.png',\n",
              " 'D_123img.png',\n",
              " 'D_124img.png',\n",
              " 'D_125img.png',\n",
              " 'D_126img.png',\n",
              " 'D_127img.png',\n",
              " 'D_128img.png',\n",
              " 'D_129img.png',\n",
              " 'D_12img.png',\n",
              " 'D_130img.png',\n",
              " 'D_131img.png',\n",
              " 'D_132img.png',\n",
              " 'D_133img.png',\n",
              " 'D_134img.png',\n",
              " 'D_135img.png',\n",
              " 'D_13img.png',\n",
              " 'D_14img.png',\n",
              " 'D_15img.png',\n",
              " 'D_16img.png',\n",
              " 'D_17img.png',\n",
              " 'D_18img.png',\n",
              " 'D_19img.png',\n",
              " 'D_1img.png',\n",
              " 'D_20img.png',\n",
              " 'D_21img.png',\n",
              " 'D_22img.png',\n",
              " 'D_23img.png',\n",
              " 'D_24img.png',\n",
              " 'D_25img.png',\n",
              " 'D_26img.png',\n",
              " 'D_27img.png',\n",
              " 'D_28img.png',\n",
              " 'D_29img.png',\n",
              " 'D_2img.png',\n",
              " 'D_30img.png',\n",
              " 'D_31img.png',\n",
              " 'D_32img.png',\n",
              " 'D_33img.png',\n",
              " 'D_34img.png',\n",
              " 'D_35img.png',\n",
              " 'D_36img.png',\n",
              " 'D_37img.png',\n",
              " 'D_38img.png',\n",
              " 'D_39img.png',\n",
              " 'D_3img.png',\n",
              " 'D_40img.png',\n",
              " 'D_41img.png',\n",
              " 'D_42img.png',\n",
              " 'D_43img.png',\n",
              " 'D_44img.png',\n",
              " 'D_45img.png',\n",
              " 'D_46img.png',\n",
              " 'D_47img.png',\n",
              " 'D_48img.png',\n",
              " 'D_49img.png',\n",
              " 'D_4img.png',\n",
              " 'D_50img.png',\n",
              " 'D_51img.png',\n",
              " 'D_52img.png',\n",
              " 'D_53img.png',\n",
              " 'D_54img.png',\n",
              " 'D_55img.png',\n",
              " 'D_56img.png',\n",
              " 'D_57img.png',\n",
              " 'D_58img.png',\n",
              " 'D_59img.png',\n",
              " 'D_5img.png',\n",
              " 'D_60img.png',\n",
              " 'D_61img.png',\n",
              " 'D_62img.png',\n",
              " 'D_63img.png',\n",
              " 'D_64img.png',\n",
              " 'D_65img.png',\n",
              " 'D_66img.png',\n",
              " 'D_67img.png',\n",
              " 'D_68img.png',\n",
              " 'D_69img.png',\n",
              " 'D_6img.png',\n",
              " 'D_70img.png',\n",
              " 'D_71img.png',\n",
              " 'D_72img.png',\n",
              " 'D_73img.png',\n",
              " 'D_74img.png',\n",
              " 'D_75img.png',\n",
              " 'D_76img.png',\n",
              " 'D_77img.png',\n",
              " 'D_78img.png',\n",
              " 'D_79img.png',\n",
              " 'D_7img.png',\n",
              " 'D_80img.png',\n",
              " 'D_81img.png',\n",
              " 'D_82img.png',\n",
              " 'D_83img.png',\n",
              " 'D_84img.png',\n",
              " 'D_85img.png',\n",
              " 'D_86img.png',\n",
              " 'D_87img.png',\n",
              " 'D_88img.png',\n",
              " 'D_89img.png',\n",
              " 'D_8img.png',\n",
              " 'D_90img.png',\n",
              " 'D_91img.png',\n",
              " 'D_92img.png',\n",
              " 'D_93img.png',\n",
              " 'D_94img.png',\n",
              " 'D_95img.png',\n",
              " 'D_96img.png',\n",
              " 'D_97img.png',\n",
              " 'D_98img.png',\n",
              " 'D_99img.png',\n",
              " 'D_9img.png',\n",
              " 'E_10img.png',\n",
              " 'E_11img.png',\n",
              " 'E_12img.png',\n",
              " 'E_13img.png',\n",
              " 'E_14img.png',\n",
              " 'E_15img.png',\n",
              " 'E_16img.png',\n",
              " 'E_17img.png',\n",
              " 'E_18img.png',\n",
              " 'E_19img.png',\n",
              " 'E_1img.png',\n",
              " 'E_20img.png',\n",
              " 'E_21img.png',\n",
              " 'E_22img.png',\n",
              " 'E_23img.png',\n",
              " 'E_24img.png',\n",
              " 'E_25img.png',\n",
              " 'E_26img.png',\n",
              " 'E_27img.png',\n",
              " 'E_28img.png',\n",
              " 'E_29img.png',\n",
              " 'E_2img.png',\n",
              " 'E_30img.png',\n",
              " 'E_31img.png',\n",
              " 'E_32img.png',\n",
              " 'E_33img.png',\n",
              " 'E_34img.png',\n",
              " 'E_35img.png',\n",
              " 'E_36img.png',\n",
              " 'E_37img.png',\n",
              " 'E_38img.png',\n",
              " 'E_39img.png',\n",
              " 'E_3img.png',\n",
              " 'E_40img.png',\n",
              " 'E_41img.png',\n",
              " 'E_42img.png',\n",
              " 'E_43img.png',\n",
              " 'E_44img.png',\n",
              " 'E_45img.png',\n",
              " 'E_46img.png',\n",
              " 'E_47img.png',\n",
              " 'E_48img.png',\n",
              " 'E_49img.png',\n",
              " 'E_4img.png',\n",
              " 'E_50img.png',\n",
              " 'E_51img.png',\n",
              " 'E_52img.png',\n",
              " 'E_53img.png',\n",
              " 'E_54img.png',\n",
              " 'E_55img.png',\n",
              " 'E_56img.png',\n",
              " 'E_57img.png',\n",
              " 'E_58img.png',\n",
              " 'E_59img.png',\n",
              " 'E_5img.png',\n",
              " 'E_60img.png',\n",
              " 'E_61img.png',\n",
              " 'E_62img.png',\n",
              " 'E_63img.png',\n",
              " 'E_64img.png',\n",
              " 'E_65img.png',\n",
              " 'E_66img.png',\n",
              " 'E_67img.png',\n",
              " 'E_68img.png',\n",
              " 'E_69img.png',\n",
              " 'E_6img.png',\n",
              " 'E_70img.png',\n",
              " 'E_71img.png',\n",
              " 'E_72img.png',\n",
              " 'E_73img.png',\n",
              " 'E_74img.png',\n",
              " 'E_75img.png',\n",
              " 'E_76img.png',\n",
              " 'E_77img.png',\n",
              " 'E_78img.png',\n",
              " 'E_79img.png',\n",
              " 'E_7img.png',\n",
              " 'E_80img.png',\n",
              " 'E_81img.png',\n",
              " 'E_82img.png',\n",
              " 'E_83img.png',\n",
              " 'E_84img.png',\n",
              " 'E_85img.png',\n",
              " 'E_8img.png',\n",
              " 'E_9img.png']"
            ]
          },
          "metadata": {
            "tags": []
          },
          "execution_count": 11
        }
      ]
    },
    {
      "cell_type": "code",
      "metadata": {
        "id": "c6hf4kR6MC-k",
        "colab_type": "code",
        "colab": {}
      },
      "source": [
        "img_rows,img_cols,img_layer = 280, 280, 3\n",
        "test  = []\n",
        "for file in listing:\n",
        "    im = Image.open(path + '/' +file)\n",
        "    im = np.array(im)\n",
        "    test.append(im)\n",
        "    #img = im.resize((img_rows,img_cols, img_layer))\n",
        "    #gray = img.convert('L')\n",
        "    #img.save(path2 + '/' + file, 'png')\n",
        "test = np.array(test)"
      ],
      "execution_count": 0,
      "outputs": []
    },
    {
      "cell_type": "code",
      "metadata": {
        "id": "Snjx8WLtMC-q",
        "colab_type": "code",
        "colab": {}
      },
      "source": [
        "imlist = os.listdir(path)"
      ],
      "execution_count": 0,
      "outputs": []
    },
    {
      "cell_type": "code",
      "metadata": {
        "id": "cJ8-yuyrMC-z",
        "colab_type": "code",
        "outputId": "db0f2d57-d69e-4ce9-99a9-3ede7b51daa6",
        "colab": {
          "base_uri": "https://localhost:8080/",
          "height": 34
        }
      },
      "source": [
        "test.shape"
      ],
      "execution_count": 13,
      "outputs": [
        {
          "output_type": "execute_result",
          "data": {
            "text/plain": [
              "(784, 125, 125, 3)"
            ]
          },
          "metadata": {
            "tags": []
          },
          "execution_count": 13
        }
      ]
    },
    {
      "cell_type": "code",
      "metadata": {
        "id": "l2kcus0TMC-5",
        "colab_type": "code",
        "colab": {}
      },
      "source": [
        "num_of_samples = 784\n",
        "labels = np.ones((num_of_samples,),dtype='int64')"
      ],
      "execution_count": 0,
      "outputs": []
    },
    {
      "cell_type": "code",
      "metadata": {
        "id": "_WcQRy4kMC_B",
        "colab_type": "code",
        "colab": {}
      },
      "source": [
        "labels[0:224]=0  #168\n",
        "labels[224:313]=1 #168:342\n",
        "labels[313:564]=2  #342:504\n",
        "labels[564:699]=3  #504:765\n",
        "labels[699:784]=4  #765:918\n"
      ],
      "execution_count": 0,
      "outputs": []
    },
    {
      "cell_type": "code",
      "metadata": {
        "id": "t3ZuREPiMC_H",
        "colab_type": "code",
        "colab": {}
      },
      "source": [
        "data, Label = shuffle(test,labels,random_state=2)"
      ],
      "execution_count": 0,
      "outputs": []
    },
    {
      "cell_type": "code",
      "metadata": {
        "id": "-oa6WHZ4MC_N",
        "colab_type": "code",
        "colab": {}
      },
      "source": [
        "X_train, X_test, Y_train, Y_test = train_test_split(data, Label, test_size=0.2, random_state=4)"
      ],
      "execution_count": 0,
      "outputs": []
    },
    {
      "cell_type": "code",
      "metadata": {
        "id": "eFfbytFxMC_R",
        "colab_type": "code",
        "outputId": "3282caba-a110-4ee2-a7bf-18b5cb690666",
        "colab": {
          "base_uri": "https://localhost:8080/",
          "height": 34
        }
      },
      "source": [
        "X_train.shape, X_test.shape, Y_train.shape, Y_test.shape"
      ],
      "execution_count": 18,
      "outputs": [
        {
          "output_type": "execute_result",
          "data": {
            "text/plain": [
              "((627, 125, 125, 3), (157, 125, 125, 3), (627,), (157,))"
            ]
          },
          "metadata": {
            "tags": []
          },
          "execution_count": 18
        }
      ]
    },
    {
      "cell_type": "code",
      "metadata": {
        "id": "dSpJDBHhMC_W",
        "colab_type": "code",
        "colab": {}
      },
      "source": [
        "X_train = X_train.astype('float32')\n",
        "X_train /= 255.\n",
        "X_test = X_test.astype('float32')\n",
        "X_test /= 255.\n"
      ],
      "execution_count": 0,
      "outputs": []
    },
    {
      "cell_type": "code",
      "metadata": {
        "id": "Cwf0mDNyMC_a",
        "colab_type": "code",
        "outputId": "98eb41f3-7acf-44a8-b92b-4782868e4f92",
        "colab": {
          "base_uri": "https://localhost:8080/",
          "height": 85
        }
      },
      "source": [
        "print(\"X_train.shape:\",X_train.shape)\n",
        "print(\"y_train.shape:\",Y_train.shape)\n",
        "print(\"X_test.shape:\",X_test.shape)\n",
        "print(\"y_test.shape:\",Y_test.shape)\n",
        "X_train[0]"
      ],
      "execution_count": 0,
      "outputs": [
        {
          "output_type": "stream",
          "text": [
            "X_train.shape: (627, 125, 125, 3)\n",
            "y_train.shape: (627,)\n",
            "X_test.shape: (157, 125, 125, 3)\n",
            "y_test.shape: (157,)\n"
          ],
          "name": "stdout"
        }
      ]
    },
    {
      "cell_type": "code",
      "metadata": {
        "id": "WfZ8CKzaMC_f",
        "colab_type": "code",
        "outputId": "127af1f4-01ea-48ea-da5a-9d94db31e7e2",
        "colab": {
          "base_uri": "https://localhost:8080/",
          "height": 34
        }
      },
      "source": [
        "Y_train[0:11]"
      ],
      "execution_count": 20,
      "outputs": [
        {
          "output_type": "execute_result",
          "data": {
            "text/plain": [
              "array([2, 3, 2, 2, 4, 0, 0, 4, 2, 4, 0])"
            ]
          },
          "metadata": {
            "tags": []
          },
          "execution_count": 20
        }
      ]
    },
    {
      "cell_type": "code",
      "metadata": {
        "id": "uVfYMYiKMC_l",
        "colab_type": "code",
        "outputId": "b4c6757b-b259-4f81-be4d-01144d1e0609",
        "colab": {
          "base_uri": "https://localhost:8080/",
          "height": 266
        }
      },
      "source": [
        "import matplotlib.pyplot as plt\n",
        "\n",
        "x = list(Y_train)\n",
        "plt.hist(x, bins = 25)\n",
        "plt.show()"
      ],
      "execution_count": 21,
      "outputs": [
        {
          "output_type": "display_data",
          "data": {
            "image/png": "[encoded data removed]",
            "text/plain": [
              "<Figure size 432x288 with 1 Axes>"
            ]
          },
          "metadata": {
            "tags": []
          }
        }
      ]
    },
    {
      "cell_type": "code",
      "metadata": {
        "id": "8hO0TPNmMC_r",
        "colab_type": "code",
        "colab": {}
      },
      "source": [
        "#reshape input data\n",
        "X_train = X_train.reshape(X_train.shape[0], 125, 125, 3)\n",
        "X_test = X_test.reshape(X_test.shape[0], 125, 125, 3)"
      ],
      "execution_count": 0,
      "outputs": []
    },
    {
      "cell_type": "code",
      "metadata": {
        "id": "KpQWJDwpo0VL",
        "colab_type": "code",
        "colab": {
          "base_uri": "https://localhost:8080/",
          "height": 34
        },
        "outputId": "5bd7941e-0109-471c-93ab-df98d1cf1457"
      },
      "source": [
        "type(X_train)"
      ],
      "execution_count": 51,
      "outputs": [
        {
          "output_type": "execute_result",
          "data": {
            "text/plain": [
              "numpy.ndarray"
            ]
          },
          "metadata": {
            "tags": []
          },
          "execution_count": 51
        }
      ]
    },
    {
      "cell_type": "code",
      "metadata": {
        "id": "Kh_aZzAPMC_v",
        "colab_type": "code",
        "outputId": "3145aa54-8f29-43a1-adf5-f1061707b54e",
        "colab": {
          "base_uri": "https://localhost:8080/",
          "height": 34
        }
      },
      "source": [
        "X_test.shape"
      ],
      "execution_count": 23,
      "outputs": [
        {
          "output_type": "execute_result",
          "data": {
            "text/plain": [
              "(157, 125, 125, 3)"
            ]
          },
          "metadata": {
            "tags": []
          },
          "execution_count": 23
        }
      ]
    },
    {
      "cell_type": "code",
      "metadata": {
        "id": "dAP0dHK1MC_z",
        "colab_type": "code",
        "colab": {}
      },
      "source": [
        "# one hot encode outputs\n",
        "y_train = np_utils.to_categorical(Y_train)\n",
        "y_test = np_utils.to_categorical(Y_test)"
      ],
      "execution_count": 0,
      "outputs": []
    },
    {
      "cell_type": "code",
      "metadata": {
        "id": "YwVuh7dkMC_4",
        "colab_type": "code",
        "outputId": "1dce3ae8-aa85-49e5-c779-2e1c02ff1a18",
        "colab": {
          "base_uri": "https://localhost:8080/",
          "height": 204
        }
      },
      "source": [
        "y_train[0:11]"
      ],
      "execution_count": 25,
      "outputs": [
        {
          "output_type": "execute_result",
          "data": {
            "text/plain": [
              "array([[0., 0., 1., 0., 0.],\n",
              "       [0., 0., 0., 1., 0.],\n",
              "       [0., 0., 1., 0., 0.],\n",
              "       [0., 0., 1., 0., 0.],\n",
              "       [0., 0., 0., 0., 1.],\n",
              "       [1., 0., 0., 0., 0.],\n",
              "       [1., 0., 0., 0., 0.],\n",
              "       [0., 0., 0., 0., 1.],\n",
              "       [0., 0., 1., 0., 0.],\n",
              "       [0., 0., 0., 0., 1.],\n",
              "       [1., 0., 0., 0., 0.]], dtype=float32)"
            ]
          },
          "metadata": {
            "tags": []
          },
          "execution_count": 25
        }
      ]
    },
    {
      "cell_type": "code",
      "metadata": {
        "id": "kg-e9zKtMC_8",
        "colab_type": "code",
        "outputId": "24f17165-2c21-4045-c861-9c8e722f9bcb",
        "colab": {
          "base_uri": "https://localhost:8080/",
          "height": 34
        }
      },
      "source": [
        "y_test.shape"
      ],
      "execution_count": 26,
      "outputs": [
        {
          "output_type": "execute_result",
          "data": {
            "text/plain": [
              "(157, 5)"
            ]
          },
          "metadata": {
            "tags": []
          },
          "execution_count": 26
        }
      ]
    },
    {
      "cell_type": "code",
      "metadata": {
        "id": "YCteWbIvMDAA",
        "colab_type": "code",
        "colab": {}
      },
      "source": [
        "num_classes = y_test.shape[1]\n",
        "labels=range(y_test.shape[1])"
      ],
      "execution_count": 0,
      "outputs": []
    },
    {
      "cell_type": "code",
      "metadata": {
        "id": "s1LBwjOQMDAF",
        "colab_type": "code",
        "outputId": "40c74547-2b0e-45b6-a6f5-fc8ab7ce8bf3",
        "colab": {
          "base_uri": "https://localhost:8080/",
          "height": 258
        }
      },
      "source": [
        "from keras.layers.convolutional import Conv2D\n",
        "\n",
        "model = Sequential()\n",
        "#1................\n",
        "model.add(Conv2D(32, (11, 11), input_shape=(125, 125, 3), activation='relu'))\n",
        "\n",
        "model.add(MaxPooling2D(pool_size=(3, 3)))\n",
        "#2...............\n",
        "model.add(Conv2D(32,\n",
        "    (5, 5),\n",
        "    activation='relu'))\n",
        "model.add(MaxPooling2D(pool_size=(3, 3)))\n",
        "#3.................\n",
        "model.add(Conv2D(32,\n",
        "    (3, 3),\n",
        "    activation='relu'))\n",
        "model.add(Conv2D(32,\n",
        "    (3, 3),\n",
        "    activation='relu'))\n",
        "model.add(MaxPooling2D(pool_size=(3, 3)))\n",
        "model.add(Flatten())\n",
        "model.add(Dropout(0.25))\n",
        "#model.add(Dense(64, activation='relu'))\n",
        "model.add(Dense(64, activation='relu'))\n",
        "#model.add(Dense(64, activation='relu'))\n",
        "#model.add(Dropout(0.2))\n",
        "model.add(Dense(num_classes, activation='softmax'))\n"
      ],
      "execution_count": 28,
      "outputs": [
        {
          "output_type": "stream",
          "text": [
            "WARNING:tensorflow:From /usr/local/lib/python3.6/dist-packages/keras/backend/tensorflow_backend.py:66: The name tf.get_default_graph is deprecated. Please use tf.compat.v1.get_default_graph instead.\n",
            "\n",
            "WARNING:tensorflow:From /usr/local/lib/python3.6/dist-packages/keras/backend/tensorflow_backend.py:541: The name tf.placeholder is deprecated. Please use tf.compat.v1.placeholder instead.\n",
            "\n",
            "WARNING:tensorflow:From /usr/local/lib/python3.6/dist-packages/keras/backend/tensorflow_backend.py:4432: The name tf.random_uniform is deprecated. Please use tf.random.uniform instead.\n",
            "\n",
            "WARNING:tensorflow:From /usr/local/lib/python3.6/dist-packages/keras/backend/tensorflow_backend.py:4267: The name tf.nn.max_pool is deprecated. Please use tf.nn.max_pool2d instead.\n",
            "\n",
            "WARNING:tensorflow:From /usr/local/lib/python3.6/dist-packages/keras/backend/tensorflow_backend.py:148: The name tf.placeholder_with_default is deprecated. Please use tf.compat.v1.placeholder_with_default instead.\n",
            "\n",
            "WARNING:tensorflow:From /usr/local/lib/python3.6/dist-packages/keras/backend/tensorflow_backend.py:3733: calling dropout (from tensorflow.python.ops.nn_ops) with keep_prob is deprecated and will be removed in a future version.\n",
            "Instructions for updating:\n",
            "Please use `rate` instead of `keep_prob`. Rate should be set to `rate = 1 - keep_prob`.\n"
          ],
          "name": "stdout"
        }
      ]
    },
    {
      "cell_type": "code",
      "metadata": {
        "id": "bxIzjZ-CMDAL",
        "colab_type": "code",
        "outputId": "bb60f69c-7acd-49ba-aeff-94b848c6c69a",
        "colab": {
          "base_uri": "https://localhost:8080/",
          "height": 105
        }
      },
      "source": [
        "model.compile(loss='categorical_crossentropy', optimizer='rmsprop',\n",
        "                metrics=['accuracy'])"
      ],
      "execution_count": 29,
      "outputs": [
        {
          "output_type": "stream",
          "text": [
            "WARNING:tensorflow:From /usr/local/lib/python3.6/dist-packages/keras/optimizers.py:793: The name tf.train.Optimizer is deprecated. Please use tf.compat.v1.train.Optimizer instead.\n",
            "\n",
            "WARNING:tensorflow:From /usr/local/lib/python3.6/dist-packages/keras/backend/tensorflow_backend.py:3576: The name tf.log is deprecated. Please use tf.math.log instead.\n",
            "\n"
          ],
          "name": "stdout"
        }
      ]
    },
    {
      "cell_type": "code",
      "metadata": {
        "scrolled": true,
        "id": "9bwKT3gWMDAQ",
        "colab_type": "code",
        "outputId": "5206fe35-808c-47ea-fc37-a74e6bd59a6c",
        "colab": {
          "base_uri": "https://localhost:8080/",
          "height": 527
        }
      },
      "source": [
        "model.summary()"
      ],
      "execution_count": 30,
      "outputs": [
        {
          "output_type": "stream",
          "text": [
            "Model: \"sequential_1\"\n",
            "_________________________________________________________________\n",
            "Layer (type)                 Output Shape              Param #   \n",
            "=================================================================\n",
            "conv2d_1 (Conv2D)            (None, 115, 115, 32)      11648     \n",
            "_________________________________________________________________\n",
            "max_pooling2d_1 (MaxPooling2 (None, 38, 38, 32)        0         \n",
            "_________________________________________________________________\n",
            "conv2d_2 (Conv2D)            (None, 34, 34, 32)        25632     \n",
            "_________________________________________________________________\n",
            "max_pooling2d_2 (MaxPooling2 (None, 11, 11, 32)        0         \n",
            "_________________________________________________________________\n",
            "conv2d_3 (Conv2D)            (None, 9, 9, 32)          9248      \n",
            "_________________________________________________________________\n",
            "conv2d_4 (Conv2D)            (None, 7, 7, 32)          9248      \n",
            "_________________________________________________________________\n",
            "max_pooling2d_3 (MaxPooling2 (None, 2, 2, 32)          0         \n",
            "_________________________________________________________________\n",
            "flatten_1 (Flatten)          (None, 128)               0         \n",
            "_________________________________________________________________\n",
            "dropout_1 (Dropout)          (None, 128)               0         \n",
            "_________________________________________________________________\n",
            "dense_1 (Dense)              (None, 64)                8256      \n",
            "_________________________________________________________________\n",
            "dense_2 (Dense)              (None, 5)                 325       \n",
            "=================================================================\n",
            "Total params: 64,357\n",
            "Trainable params: 64,357\n",
            "Non-trainable params: 0\n",
            "_________________________________________________________________\n"
          ],
          "name": "stdout"
        }
      ]
    },
    {
      "cell_type": "code",
      "metadata": {
        "scrolled": true,
        "id": "b81ksI0mMDAY",
        "colab_type": "code",
        "outputId": "7d7fd994-ce70-48de-c5ac-72105e2cf2b1",
        "colab": {}
      },
      "source": [
        "model.fit(X_train, y_train, validation_data=(X_test, y_test),\n",
        "        epochs=100)"
      ],
      "execution_count": 0,
      "outputs": [
        {
          "output_type": "stream",
          "text": [
            "WARNING:tensorflow:From /home/bda/anaconda3/lib/python3.7/site-packages/keras/backend/tensorflow_backend.py:422: The name tf.global_variables is deprecated. Please use tf.compat.v1.global_variables instead.\n",
            "\n",
            "Train on 627 samples, validate on 157 samples\n",
            "Epoch 1/100\n",
            "627/627 [==============================] - 12s 19ms/step - loss: 1.5748 - accuracy: 0.4003 - val_loss: 1.3721 - val_accuracy: 0.4586\n",
            "Epoch 2/100\n",
            "627/627 [==============================] - 12s 19ms/step - loss: 1.3149 - accuracy: 0.5439 - val_loss: 1.1355 - val_accuracy: 0.6242\n",
            "Epoch 3/100\n",
            "627/627 [==============================] - 12s 19ms/step - loss: 1.0747 - accuracy: 0.5805 - val_loss: 0.9214 - val_accuracy: 0.6752\n",
            "Epoch 4/100\n",
            "627/627 [==============================] - 11s 18ms/step - loss: 1.0676 - accuracy: 0.6061 - val_loss: 1.3348 - val_accuracy: 0.4904\n",
            "Epoch 5/100\n",
            "627/627 [==============================] - 11s 18ms/step - loss: 1.0030 - accuracy: 0.6188 - val_loss: 0.9084 - val_accuracy: 0.6752\n",
            "Epoch 6/100\n",
            "627/627 [==============================] - 12s 18ms/step - loss: 1.0787 - accuracy: 0.6061 - val_loss: 0.7270 - val_accuracy: 0.7070\n",
            "Epoch 7/100\n",
            "627/627 [==============================] - 12s 19ms/step - loss: 0.9233 - accuracy: 0.6507 - val_loss: 0.7239 - val_accuracy: 0.7452\n",
            "Epoch 8/100\n",
            "627/627 [==============================] - 12s 18ms/step - loss: 0.8596 - accuracy: 0.6667 - val_loss: 0.6204 - val_accuracy: 0.7771\n",
            "Epoch 9/100\n",
            "627/627 [==============================] - 12s 18ms/step - loss: 0.9494 - accuracy: 0.6140 - val_loss: 0.5628 - val_accuracy: 0.7898\n",
            "Epoch 10/100\n",
            "627/627 [==============================] - 12s 18ms/step - loss: 1.0337 - accuracy: 0.6396 - val_loss: 0.6343 - val_accuracy: 0.7834\n",
            "Epoch 11/100\n",
            "627/627 [==============================] - 12s 18ms/step - loss: 0.7561 - accuracy: 0.6715 - val_loss: 0.5193 - val_accuracy: 0.7389\n",
            "Epoch 12/100\n",
            "627/627 [==============================] - 12s 18ms/step - loss: 0.7783 - accuracy: 0.6730 - val_loss: 0.7292 - val_accuracy: 0.6815\n",
            "Epoch 13/100\n",
            "627/627 [==============================] - 12s 18ms/step - loss: 0.7519 - accuracy: 0.6730 - val_loss: 0.6200 - val_accuracy: 0.7389\n",
            "Epoch 14/100\n",
            "627/627 [==============================] - 12s 18ms/step - loss: 0.8822 - accuracy: 0.6332 - val_loss: 0.7281 - val_accuracy: 0.6369\n",
            "Epoch 15/100\n",
            "627/627 [==============================] - 12s 18ms/step - loss: 0.6808 - accuracy: 0.7081 - val_loss: 0.6590 - val_accuracy: 0.6561\n",
            "Epoch 16/100\n",
            "627/627 [==============================] - 12s 18ms/step - loss: 0.7786 - accuracy: 0.6826 - val_loss: 0.5224 - val_accuracy: 0.7771\n",
            "Epoch 17/100\n",
            "627/627 [==============================] - 11s 18ms/step - loss: 0.7577 - accuracy: 0.6778 - val_loss: 0.6358 - val_accuracy: 0.7134\n",
            "Epoch 18/100\n",
            "627/627 [==============================] - 11s 18ms/step - loss: 0.6681 - accuracy: 0.7241 - val_loss: 0.5112 - val_accuracy: 0.7962\n",
            "Epoch 19/100\n",
            "627/627 [==============================] - 12s 18ms/step - loss: 0.7870 - accuracy: 0.7097 - val_loss: 1.2602 - val_accuracy: 0.4968\n",
            "Epoch 20/100\n",
            "627/627 [==============================] - 12s 19ms/step - loss: 0.5828 - accuracy: 0.7480 - val_loss: 0.5174 - val_accuracy: 0.7898\n",
            "Epoch 21/100\n",
            "627/627 [==============================] - 12s 19ms/step - loss: 0.8299 - accuracy: 0.7257 - val_loss: 0.4369 - val_accuracy: 0.7834\n",
            "Epoch 22/100\n",
            "627/627 [==============================] - 12s 18ms/step - loss: 0.6853 - accuracy: 0.7177 - val_loss: 1.3356 - val_accuracy: 0.5414\n",
            "Epoch 23/100\n",
            "627/627 [==============================] - 12s 18ms/step - loss: 0.7344 - accuracy: 0.7002 - val_loss: 0.3678 - val_accuracy: 0.8471\n",
            "Epoch 24/100\n",
            "627/627 [==============================] - 12s 18ms/step - loss: 0.6793 - accuracy: 0.7448 - val_loss: 0.6437 - val_accuracy: 0.7134\n",
            "Epoch 25/100\n",
            "627/627 [==============================] - 12s 19ms/step - loss: 0.5996 - accuracy: 0.7368 - val_loss: 0.5083 - val_accuracy: 0.7707\n",
            "Epoch 26/100\n",
            "627/627 [==============================] - 12s 18ms/step - loss: 0.6770 - accuracy: 0.7480 - val_loss: 0.4335 - val_accuracy: 0.8408\n",
            "Epoch 27/100\n",
            "627/627 [==============================] - 12s 18ms/step - loss: 0.7319 - accuracy: 0.7368 - val_loss: 0.3893 - val_accuracy: 0.8599\n",
            "Epoch 28/100\n",
            "627/627 [==============================] - 12s 18ms/step - loss: 0.6151 - accuracy: 0.7352 - val_loss: 0.4942 - val_accuracy: 0.7389\n",
            "Epoch 29/100\n",
            "627/627 [==============================] - 12s 18ms/step - loss: 0.6452 - accuracy: 0.7352 - val_loss: 0.4453 - val_accuracy: 0.8662\n",
            "Epoch 30/100\n",
            "627/627 [==============================] - 12s 19ms/step - loss: 0.6271 - accuracy: 0.8006 - val_loss: 0.4674 - val_accuracy: 0.8408\n",
            "Epoch 31/100\n",
            "627/627 [==============================] - 12s 18ms/step - loss: 0.4529 - accuracy: 0.8038 - val_loss: 0.3549 - val_accuracy: 0.8854\n",
            "Epoch 32/100\n",
            "627/627 [==============================] - 12s 19ms/step - loss: 0.6749 - accuracy: 0.7496 - val_loss: 0.4244 - val_accuracy: 0.8599\n",
            "Epoch 33/100\n",
            "627/627 [==============================] - 12s 18ms/step - loss: 0.4764 - accuracy: 0.8150 - val_loss: 0.2732 - val_accuracy: 0.8981\n",
            "Epoch 34/100\n",
            "627/627 [==============================] - 12s 19ms/step - loss: 0.7108 - accuracy: 0.7560 - val_loss: 0.2898 - val_accuracy: 0.8854\n",
            "Epoch 35/100\n",
            "627/627 [==============================] - 12s 18ms/step - loss: 0.5886 - accuracy: 0.7927 - val_loss: 0.3182 - val_accuracy: 0.8790\n",
            "Epoch 36/100\n",
            "627/627 [==============================] - 12s 18ms/step - loss: 0.4513 - accuracy: 0.8309 - val_loss: 0.9749 - val_accuracy: 0.5796\n",
            "Epoch 37/100\n",
            "627/627 [==============================] - 12s 19ms/step - loss: 0.5703 - accuracy: 0.7687 - val_loss: 1.5013 - val_accuracy: 0.4777\n",
            "Epoch 38/100\n",
            "627/627 [==============================] - 12s 19ms/step - loss: 0.6313 - accuracy: 0.7735 - val_loss: 0.2599 - val_accuracy: 0.9236\n",
            "Epoch 39/100\n",
            "627/627 [==============================] - 12s 18ms/step - loss: 0.5078 - accuracy: 0.7815 - val_loss: 0.5035 - val_accuracy: 0.7898\n",
            "Epoch 40/100\n",
            "627/627 [==============================] - 12s 19ms/step - loss: 0.4387 - accuracy: 0.8389 - val_loss: 0.2391 - val_accuracy: 0.8726\n",
            "Epoch 41/100\n",
            "627/627 [==============================] - 12s 19ms/step - loss: 0.5199 - accuracy: 0.7927 - val_loss: 0.2737 - val_accuracy: 0.8917\n",
            "Epoch 42/100\n",
            "627/627 [==============================] - 11s 18ms/step - loss: 0.4182 - accuracy: 0.8325 - val_loss: 0.3214 - val_accuracy: 0.8662\n",
            "Epoch 43/100\n",
            "627/627 [==============================] - 12s 18ms/step - loss: 0.4912 - accuracy: 0.8357 - val_loss: 0.3127 - val_accuracy: 0.8662\n",
            "Epoch 44/100\n",
            "627/627 [==============================] - 12s 18ms/step - loss: 0.5589 - accuracy: 0.8118 - val_loss: 0.3091 - val_accuracy: 0.8408\n",
            "Epoch 45/100\n",
            "627/627 [==============================] - 12s 18ms/step - loss: 0.4078 - accuracy: 0.8421 - val_loss: 0.2577 - val_accuracy: 0.9172\n",
            "Epoch 46/100\n",
            "627/627 [==============================] - 12s 18ms/step - loss: 0.3800 - accuracy: 0.8373 - val_loss: 0.3367 - val_accuracy: 0.8535\n",
            "Epoch 47/100\n",
            "627/627 [==============================] - 12s 19ms/step - loss: 0.4739 - accuracy: 0.8198 - val_loss: 0.3495 - val_accuracy: 0.8280\n",
            "Epoch 48/100\n",
            "627/627 [==============================] - 12s 19ms/step - loss: 0.4064 - accuracy: 0.8373 - val_loss: 0.2550 - val_accuracy: 0.8854\n",
            "Epoch 49/100\n",
            "627/627 [==============================] - 12s 19ms/step - loss: 0.4042 - accuracy: 0.8485 - val_loss: 0.2422 - val_accuracy: 0.8917\n",
            "Epoch 50/100\n",
            "627/627 [==============================] - 12s 19ms/step - loss: 0.6868 - accuracy: 0.7879 - val_loss: 0.2799 - val_accuracy: 0.8981\n",
            "Epoch 51/100\n",
            "627/627 [==============================] - 12s 19ms/step - loss: 0.3139 - accuracy: 0.8852 - val_loss: 0.2416 - val_accuracy: 0.9172\n",
            "Epoch 52/100\n",
            "627/627 [==============================] - 12s 19ms/step - loss: 0.3054 - accuracy: 0.8915 - val_loss: 0.6794 - val_accuracy: 0.7197\n",
            "Epoch 53/100\n",
            "627/627 [==============================] - 12s 19ms/step - loss: 0.4374 - accuracy: 0.8612 - val_loss: 0.2160 - val_accuracy: 0.9045\n",
            "Epoch 54/100\n",
            "627/627 [==============================] - 12s 19ms/step - loss: 0.3907 - accuracy: 0.8628 - val_loss: 0.2387 - val_accuracy: 0.8981\n",
            "Epoch 55/100\n"
          ],
          "name": "stdout"
        },
        {
          "output_type": "stream",
          "text": [
            "627/627 [==============================] - 12s 18ms/step - loss: 0.3681 - accuracy: 0.8533 - val_loss: 0.2797 - val_accuracy: 0.8854\n",
            "Epoch 56/100\n",
            "627/627 [==============================] - 12s 18ms/step - loss: 0.3309 - accuracy: 0.8756 - val_loss: 0.1811 - val_accuracy: 0.9427\n",
            "Epoch 57/100\n",
            "627/627 [==============================] - 12s 19ms/step - loss: 0.5732 - accuracy: 0.8740 - val_loss: 0.2213 - val_accuracy: 0.9045\n",
            "Epoch 58/100\n",
            "627/627 [==============================] - 12s 19ms/step - loss: 0.2385 - accuracy: 0.9075 - val_loss: 0.2917 - val_accuracy: 0.8662\n",
            "Epoch 59/100\n",
            "627/627 [==============================] - 12s 18ms/step - loss: 0.3820 - accuracy: 0.8485 - val_loss: 1.7971 - val_accuracy: 0.5541\n",
            "Epoch 60/100\n",
            "627/627 [==============================] - 12s 18ms/step - loss: 0.3699 - accuracy: 0.8756 - val_loss: 1.6663 - val_accuracy: 0.7325\n",
            "Epoch 61/100\n",
            "627/627 [==============================] - 11s 18ms/step - loss: 0.5000 - accuracy: 0.8581 - val_loss: 0.1833 - val_accuracy: 0.9299\n",
            "Epoch 62/100\n",
            "627/627 [==============================] - 12s 18ms/step - loss: 0.3733 - accuracy: 0.8660 - val_loss: 0.4994 - val_accuracy: 0.8025\n",
            "Epoch 63/100\n",
            "627/627 [==============================] - 12s 18ms/step - loss: 0.2713 - accuracy: 0.9059 - val_loss: 0.1931 - val_accuracy: 0.9172\n",
            "Epoch 64/100\n",
            "627/627 [==============================] - 11s 18ms/step - loss: 0.3636 - accuracy: 0.8485 - val_loss: 0.4922 - val_accuracy: 0.8217\n",
            "Epoch 65/100\n",
            "627/627 [==============================] - 11s 18ms/step - loss: 0.3449 - accuracy: 0.8660 - val_loss: 0.2469 - val_accuracy: 0.8917\n",
            "Epoch 66/100\n",
            "627/627 [==============================] - 12s 19ms/step - loss: 0.3196 - accuracy: 0.8836 - val_loss: 0.3419 - val_accuracy: 0.8217\n",
            "Epoch 67/100\n",
            "627/627 [==============================] - 12s 19ms/step - loss: 0.3286 - accuracy: 0.8820 - val_loss: 0.5778 - val_accuracy: 0.7962\n",
            "Epoch 68/100\n",
            "627/627 [==============================] - 12s 19ms/step - loss: 0.3066 - accuracy: 0.8740 - val_loss: 0.7031 - val_accuracy: 0.7389\n",
            "Epoch 69/100\n",
            "627/627 [==============================] - 12s 18ms/step - loss: 0.2815 - accuracy: 0.8931 - val_loss: 0.1560 - val_accuracy: 0.9490\n",
            "Epoch 70/100\n",
            "627/627 [==============================] - 12s 18ms/step - loss: 0.3983 - accuracy: 0.8660 - val_loss: 0.1760 - val_accuracy: 0.9427\n",
            "Epoch 71/100\n",
            "627/627 [==============================] - 12s 18ms/step - loss: 0.2489 - accuracy: 0.9043 - val_loss: 0.1681 - val_accuracy: 0.9490\n",
            "Epoch 72/100\n",
            "627/627 [==============================] - 11s 18ms/step - loss: 0.3417 - accuracy: 0.8931 - val_loss: 0.4798 - val_accuracy: 0.8535\n",
            "Epoch 73/100\n",
            "627/627 [==============================] - 12s 18ms/step - loss: 0.3109 - accuracy: 0.8947 - val_loss: 0.1832 - val_accuracy: 0.9299\n",
            "Epoch 74/100\n",
            "627/627 [==============================] - 12s 18ms/step - loss: 0.2368 - accuracy: 0.9123 - val_loss: 1.1952 - val_accuracy: 0.6688\n",
            "Epoch 75/100\n",
            "627/627 [==============================] - 12s 19ms/step - loss: 0.3779 - accuracy: 0.8788 - val_loss: 0.1482 - val_accuracy: 0.9236\n",
            "Epoch 76/100\n",
            "627/627 [==============================] - 12s 18ms/step - loss: 0.2861 - accuracy: 0.8947 - val_loss: 0.1844 - val_accuracy: 0.9427\n",
            "Epoch 77/100\n",
            "627/627 [==============================] - 12s 18ms/step - loss: 0.2863 - accuracy: 0.8995 - val_loss: 0.5971 - val_accuracy: 0.7707\n",
            "Epoch 78/100\n",
            "627/627 [==============================] - 12s 18ms/step - loss: 0.2525 - accuracy: 0.9075 - val_loss: 0.1690 - val_accuracy: 0.9172\n",
            "Epoch 79/100\n",
            "627/627 [==============================] - 12s 18ms/step - loss: 0.2273 - accuracy: 0.9043 - val_loss: 0.8643 - val_accuracy: 0.7452\n",
            "Epoch 80/100\n",
            "627/627 [==============================] - 11s 18ms/step - loss: 0.3879 - accuracy: 0.8772 - val_loss: 0.2125 - val_accuracy: 0.9045\n",
            "Epoch 81/100\n",
            "627/627 [==============================] - 12s 18ms/step - loss: 0.2600 - accuracy: 0.9234 - val_loss: 0.1969 - val_accuracy: 0.9108\n",
            "Epoch 82/100\n",
            "627/627 [==============================] - 11s 18ms/step - loss: 0.2064 - accuracy: 0.9298 - val_loss: 0.3685 - val_accuracy: 0.8917\n",
            "Epoch 83/100\n",
            "627/627 [==============================] - 11s 18ms/step - loss: 0.2462 - accuracy: 0.9075 - val_loss: 0.2791 - val_accuracy: 0.8854\n",
            "Epoch 84/100\n",
            "627/627 [==============================] - 11s 18ms/step - loss: 0.4080 - accuracy: 0.8740 - val_loss: 0.1724 - val_accuracy: 0.9299\n",
            "Epoch 85/100\n",
            "627/627 [==============================] - 12s 18ms/step - loss: 0.1762 - accuracy: 0.9410 - val_loss: 0.4881 - val_accuracy: 0.8025\n",
            "Epoch 86/100\n",
            "627/627 [==============================] - 12s 18ms/step - loss: 0.1864 - accuracy: 0.9266 - val_loss: 0.2154 - val_accuracy: 0.9108\n",
            "Epoch 87/100\n",
            "627/627 [==============================] - 11s 18ms/step - loss: 0.2892 - accuracy: 0.9011 - val_loss: 0.4323 - val_accuracy: 0.8599\n",
            "Epoch 88/100\n",
            "627/627 [==============================] - 11s 18ms/step - loss: 0.2121 - accuracy: 0.9139 - val_loss: 0.1723 - val_accuracy: 0.9236\n",
            "Epoch 89/100\n",
            "627/627 [==============================] - 11s 18ms/step - loss: 0.3162 - accuracy: 0.8995 - val_loss: 0.1534 - val_accuracy: 0.9299\n",
            "Epoch 90/100\n",
            "627/627 [==============================] - 12s 18ms/step - loss: 0.1587 - accuracy: 0.9394 - val_loss: 0.1548 - val_accuracy: 0.9299\n",
            "Epoch 91/100\n",
            "627/627 [==============================] - 12s 18ms/step - loss: 0.2729 - accuracy: 0.9027 - val_loss: 0.1742 - val_accuracy: 0.9045\n",
            "Epoch 92/100\n",
            "627/627 [==============================] - 12s 19ms/step - loss: 0.1702 - accuracy: 0.9378 - val_loss: 0.2361 - val_accuracy: 0.9108\n",
            "Epoch 93/100\n",
            "627/627 [==============================] - 12s 19ms/step - loss: 0.2411 - accuracy: 0.9139 - val_loss: 0.2300 - val_accuracy: 0.9108\n",
            "Epoch 94/100\n",
            "627/627 [==============================] - 12s 19ms/step - loss: 0.1717 - accuracy: 0.9426 - val_loss: 0.1696 - val_accuracy: 0.9172\n",
            "Epoch 95/100\n",
            "627/627 [==============================] - 12s 19ms/step - loss: 0.2073 - accuracy: 0.9219 - val_loss: 0.7899 - val_accuracy: 0.8025\n",
            "Epoch 96/100\n",
            "627/627 [==============================] - 12s 18ms/step - loss: 0.2379 - accuracy: 0.9155 - val_loss: 0.3246 - val_accuracy: 0.8599\n",
            "Epoch 97/100\n",
            "627/627 [==============================] - 12s 19ms/step - loss: 0.1659 - accuracy: 0.9410 - val_loss: 0.3843 - val_accuracy: 0.8535\n",
            "Epoch 98/100\n",
            "627/627 [==============================] - 12s 18ms/step - loss: 0.2730 - accuracy: 0.8995 - val_loss: 0.3338 - val_accuracy: 0.8854\n",
            "Epoch 99/100\n",
            "627/627 [==============================] - 12s 19ms/step - loss: 0.1791 - accuracy: 0.9330 - val_loss: 0.2159 - val_accuracy: 0.9172\n",
            "Epoch 100/100\n",
            "627/627 [==============================] - 12s 19ms/step - loss: 0.1433 - accuracy: 0.9490 - val_loss: 0.1593 - val_accuracy: 0.9427\n"
          ],
          "name": "stdout"
        },
        {
          "output_type": "execute_result",
          "data": {
            "text/plain": [
              "<keras.callbacks.callbacks.History at 0x7fc4cd6dcad0>"
            ]
          },
          "metadata": {
            "tags": []
          },
          "execution_count": 64
        }
      ]
    },
    {
      "cell_type": "code",
      "metadata": {
        "id": "MrnCvxTeMDAe",
        "colab_type": "code",
        "colab": {}
      },
      "source": [
        "model.save(\"model_test1.h5\")"
      ],
      "execution_count": 0,
      "outputs": []
    },
    {
      "cell_type": "code",
      "metadata": {
        "id": "AWHGUdn5MDAi",
        "colab_type": "code",
        "colab": {}
      },
      "source": [
        "model_json = model.to_json()\n",
        "with open(\"model.json\", \"w\") as json_file:\n",
        "    json_file.write(model_json)"
      ],
      "execution_count": 0,
      "outputs": []
    },
    {
      "cell_type": "code",
      "metadata": {
        "id": "ks2mDa4IMDAm",
        "colab_type": "code",
        "colab": {}
      },
      "source": [
        "from sklearn.metrics import classification_report,confusion_matrix\n",
        "import itertools\n"
      ],
      "execution_count": 0,
      "outputs": []
    },
    {
      "cell_type": "code",
      "metadata": {
        "id": "C6RkpozwOtEY",
        "colab_type": "code",
        "colab": {}
      },
      "source": [
        "model_filepath = '/content/drive/My Drive/Projects/model_test1.h5'\n",
        "model = load_model(\n",
        "    model_filepath,\n",
        "    custom_objects=None,\n",
        "    compile=False)"
      ],
      "execution_count": 0,
      "outputs": []
    },
    {
      "cell_type": "code",
      "metadata": {
        "id": "dHmqPqr-MDA7",
        "colab_type": "code",
        "outputId": "1f860266-1bda-4d82-b590-4d518f743875",
        "colab": {
          "base_uri": "https://localhost:8080/",
          "height": 34
        }
      },
      "source": [
        "X_test[0].shape"
      ],
      "execution_count": 33,
      "outputs": [
        {
          "output_type": "execute_result",
          "data": {
            "text/plain": [
              "(125, 125, 3)"
            ]
          },
          "metadata": {
            "tags": []
          },
          "execution_count": 33
        }
      ]
    },
    {
      "cell_type": "code",
      "metadata": {
        "id": "a4Vxjb5VMDBE",
        "colab_type": "code",
        "colab": {}
      },
      "source": [
        "y_pred=[]\n",
        "for img in X_test:\n",
        "    pred_val=model.predict(img.reshape(1,125, 125, 3))\n",
        "    pred_val=np.where(pred_val[0]== max(pred_val[0]))\n",
        "    y_pred.append(pred_val[0][0])"
      ],
      "execution_count": 0,
      "outputs": []
    },
    {
      "cell_type": "code",
      "metadata": {
        "id": "cWoy1kT4MDBM",
        "colab_type": "code",
        "outputId": "a70d3ab1-e607-4edf-a2cf-c1897242802d",
        "colab": {
          "base_uri": "https://localhost:8080/",
          "height": 153
        }
      },
      "source": [
        "y_pred=np.array(y_pred)\n",
        "y_pred"
      ],
      "execution_count": 36,
      "outputs": [
        {
          "output_type": "execute_result",
          "data": {
            "text/plain": [
              "array([0, 3, 2, 3, 3, 2, 2, 0, 0, 2, 2, 0, 0, 1, 4, 0, 0, 3, 2, 2, 0, 4,\n",
              "       2, 2, 0, 1, 2, 0, 0, 3, 0, 0, 2, 0, 2, 2, 1, 0, 0, 2, 0, 3, 2, 0,\n",
              "       2, 2, 2, 2, 4, 4, 0, 0, 0, 3, 2, 2, 2, 4, 1, 2, 2, 0, 2, 2, 3, 2,\n",
              "       4, 2, 2, 0, 3, 0, 4, 0, 4, 0, 2, 2, 2, 2, 2, 0, 3, 2, 2, 3, 2, 2,\n",
              "       2, 2, 3, 2, 2, 3, 4, 0, 2, 1, 2, 1, 0, 0, 3, 1, 0, 2, 2, 4, 4, 3,\n",
              "       0, 0, 2, 3, 3, 3, 3, 2, 3, 3, 1, 0, 0, 3, 1, 3, 3, 1, 1, 4, 2, 2,\n",
              "       2, 1, 0, 0, 1, 2, 2, 0, 2, 0, 0, 0, 1, 2, 2, 0, 4, 2, 2, 0, 0, 3,\n",
              "       2, 1, 1])"
            ]
          },
          "metadata": {
            "tags": []
          },
          "execution_count": 36
        }
      ]
    },
    {
      "cell_type": "code",
      "metadata": {
        "id": "eyK5pAekMDBT",
        "colab_type": "code",
        "outputId": "23b1be69-b10e-41d9-ddaa-5bffdd772fa0",
        "colab": {
          "base_uri": "https://localhost:8080/",
          "height": 153
        }
      },
      "source": [
        "Y_test"
      ],
      "execution_count": 37,
      "outputs": [
        {
          "output_type": "execute_result",
          "data": {
            "text/plain": [
              "array([0, 3, 2, 3, 3, 2, 2, 0, 0, 2, 2, 0, 0, 4, 4, 0, 0, 3, 2, 2, 0, 4,\n",
              "       2, 2, 0, 4, 2, 0, 0, 3, 0, 4, 2, 0, 2, 2, 1, 0, 0, 2, 0, 3, 2, 0,\n",
              "       2, 2, 2, 2, 4, 4, 0, 0, 0, 4, 2, 2, 2, 4, 1, 2, 2, 0, 2, 2, 3, 2,\n",
              "       4, 2, 2, 0, 3, 0, 4, 0, 1, 0, 3, 2, 2, 2, 2, 0, 3, 2, 2, 3, 2, 2,\n",
              "       2, 2, 3, 2, 2, 3, 4, 0, 2, 1, 2, 1, 0, 0, 3, 1, 0, 2, 2, 1, 4, 3,\n",
              "       0, 0, 2, 3, 3, 3, 3, 2, 3, 3, 1, 0, 0, 3, 1, 3, 3, 1, 1, 4, 2, 2,\n",
              "       2, 1, 0, 0, 1, 2, 2, 0, 2, 0, 0, 0, 1, 2, 2, 0, 1, 2, 2, 0, 0, 3,\n",
              "       2, 4, 1])"
            ]
          },
          "metadata": {
            "tags": []
          },
          "execution_count": 37
        }
      ]
    },
    {
      "cell_type": "code",
      "metadata": {
        "id": "wnzRtYeZMDBk",
        "colab_type": "code",
        "outputId": "a1872830-3dd0-4dd6-c5bd-08641392bccf",
        "colab": {
          "base_uri": "https://localhost:8080/",
          "height": 102
        }
      },
      "source": [
        "from sklearn.metrics import classification_report,confusion_matrix\n",
        "print(confusion_matrix(np.argmax(y_test,axis=1), y_pred))\n"
      ],
      "execution_count": 39,
      "outputs": [
        {
          "output_type": "stream",
          "text": [
            "[[43  0  0  0  0]\n",
            " [ 0 13  0  0  3]\n",
            " [ 0  0 58  0  0]\n",
            " [ 0  0  1 24  0]\n",
            " [ 1  3  0  1 10]]\n"
          ],
          "name": "stdout"
        }
      ]
    },
    {
      "cell_type": "code",
      "metadata": {
        "id": "CXJDXYkzk5tw",
        "colab_type": "code",
        "colab": {
          "base_uri": "https://localhost:8080/",
          "height": 68
        },
        "outputId": "6a2d1c03-99df-423c-a538-d147749f9605"
      },
      "source": [
        "from keras.preprocessing.image import load_img\n",
        "from keras.preprocessing.image import img_to_array\n",
        "target_names = ['Sky', 'Pattern', 'Thich Dark','Thick White','Veil']\n",
        "test_image = '/content/drive/My Drive/Projects/data/D_7img.png'\n",
        "img = load_img(test_image, target_size=(125, 125, 1))\n",
        "img = img_to_array(img)\n",
        "img = img.reshape(1, 125, 125, 3)\n",
        "print((model.predict(img)))\n",
        "print(model.predict_classes(img))\n",
        "print(target_names[model.predict_classes(img)[0]])"
      ],
      "execution_count": 61,
      "outputs": [
        {
          "output_type": "stream",
          "text": [
            "[[0. 0. 0. 1. 0.]]\n",
            "[3]\n",
            "Thick White\n"
          ],
          "name": "stdout"
        }
      ]
    },
    {
      "cell_type": "code",
      "metadata": {
        "id": "ThpGRLR2MDBo",
        "colab_type": "code",
        "outputId": "b3a68c21-b9a2-43d1-e0d0-ee37e30a27c0",
        "colab": {
          "base_uri": "https://localhost:8080/",
          "height": 464
        }
      },
      "source": [
        "from itertools import product\n",
        "target_names = ['Sky', 'Pattern', 'Thich Dark','Thick White','Veil']\n",
        "def plot_confusion_matrix(cm, classes,\n",
        "                          normalize=False,\n",
        "                          title='Confusion matrix',\n",
        "                          cmap=plt.cm.Blues):\n",
        "    \"\"\"\n",
        "    This function prints and plots the confusion matrix.\n",
        "    Normalization can be applied by setting `normalize=True`.\n",
        "    \"\"\"\n",
        "    plt.imshow(cm, interpolation='nearest', cmap=cmap)\n",
        "    plt.title(title)\n",
        "    plt.colorbar()\n",
        "    tick_marks = np.arange(len(classes))\n",
        "    plt.xticks(tick_marks, classes, rotation=45)\n",
        "    plt.yticks(tick_marks, classes)\n",
        "\n",
        "    if normalize:\n",
        "        cm = cm.astype('float') / cm.sum(axis=1)[:, np.newaxis]\n",
        "        print(\"Normalized confusion matrix\")\n",
        "    else:\n",
        "        print('Confusion matrix, without normalization')\n",
        "\n",
        "    print(cm)\n",
        "\n",
        "    thresh = cm.max() / 2.\n",
        "    for i, j in product(range(cm.shape[0]), range(cm.shape[1])):\n",
        "        plt.text(j, i, cm[i, j],\n",
        "                 horizontalalignment=\"center\",\n",
        "                 color=\"white\" if cm[i, j] > thresh else \"black\")\n",
        "\n",
        "    plt.tight_layout()\n",
        "    plt.ylabel('True label')\n",
        "    plt.xlabel('Predicted label')\n",
        "\n",
        "# Compute confusion matrix\n",
        "cnf_matrix = (confusion_matrix(np.argmax(y_test,axis=1), y_pred))\n",
        "\n",
        "np.set_printoptions(precision=2)\n",
        "\n",
        "plt.figure()\n",
        "\n",
        "# Plot non-normalized confusion matrix\n",
        "plot_confusion_matrix(cnf_matrix, classes=target_names,\n",
        "                      title='Confusion matrix')\n",
        "plt.figure(figsize=(30,10))\n",
        "# Plot normalized confusion matrix\n",
        "#plot_confusion_matrix(cnf_matrix, classes=target_names, normalize=True,\n",
        "#                      title='Normalized confusion matrix')\n",
        "plt.figure()\n",
        "plt.show()"
      ],
      "execution_count": 46,
      "outputs": [
        {
          "output_type": "stream",
          "text": [
            "ERROR! Session/line number was not unique in database. History logging moved to new session 69\n",
            "Confusion matrix, without normalization\n",
            "[[43  0  0  0  0]\n",
            " [ 0 13  0  0  3]\n",
            " [ 0  0 58  0  0]\n",
            " [ 0  0  1 24  0]\n",
            " [ 1  3  0  1 10]]\n"
          ],
          "name": "stdout"
        },
        {
          "output_type": "display_data",
          "data": {
            "image/png": "[encoded data removed]",
            "text/plain": [
              "<Figure size 432x288 with 2 Axes>"
            ]
          },
          "metadata": {
            "tags": []
          }
        },
        {
          "output_type": "display_data",
          "data": {
            "text/plain": [
              "<Figure size 2160x720 with 0 Axes>"
            ]
          },
          "metadata": {
            "tags": []
          }
        },
        {
          "output_type": "display_data",
          "data": {
            "text/plain": [
              "<Figure size 432x288 with 0 Axes>"
            ]
          },
          "metadata": {
            "tags": []
          }
        }
      ]
    },
    {
      "cell_type": "code",
      "metadata": {
        "id": "ollLgZ_6uKgn",
        "colab_type": "code",
        "colab": {
          "base_uri": "https://localhost:8080/",
          "height": 357
        },
        "outputId": "6c30d178-17ed-4593-a694-d63bc673ae01"
      },
      "source": [
        "from tkinter import *\n",
        "from tkinter import ttk\n",
        "from tkinter import filedialog\n",
        "from PIL import Image, ImageTk\n",
        "\n",
        "\n",
        "class Root(Tk):\n",
        "    def __init__(self):\n",
        "        super(Root, self).__init__()\n",
        "        self.title(\"Python Tkinter Dialog Widget\")\n",
        "        self.minsize(640, 400)\n",
        "\n",
        "        self.labelFrame = ttk.LabelFrame(self, text = \"Open File\")\n",
        "        self.labelFrame.grid(column = 0, row = 1, padx = 20, pady = 20)\n",
        "\n",
        "        self.button()\n",
        "\n",
        "\n",
        "    def button(self):\n",
        "        self.button = ttk.Button(self.labelFrame, text = \"Browse A File\",command = self.fileDialog)\n",
        "        self.button.grid(column = 1, row = 1)\n",
        "\n",
        "\n",
        "    def fileDialog(self):\n",
        "\n",
        "        self.filename = filedialog.askopenfilename(initialdir =  \"/\", title = \"Select A File\", filetype =\n",
        "        ((\"jpeg files\",\"*.jpg\"),(\"all files\",\"*.*\")) )\n",
        "        self.label = ttk.Label(self.labelFrame, text = \"\")\n",
        "        self.label.grid(column = 1, row = 2)\n",
        "        self.label.configure(text = self.filename)\n",
        "\n",
        "        img = Image.open(self.filename)\n",
        "        photo = ImageTk.PhotoImage(img)\n",
        "\n",
        "        self.label2 = Label(image=photo)\n",
        "        self.label2.image = photo \n",
        "        self.label2.grid(column=3, row=4)\n",
        "\n",
        "root = Root()\n",
        "root.mainloop()"
      ],
      "execution_count": 71,
      "outputs": [
        {
          "output_type": "error",
          "ename": "TclError",
          "evalue": "ignored",
          "traceback": [
            "\u001b[0;31m---------------------------------------------------------------------------\u001b[0m",
            "\u001b[0;31mTclError\u001b[0m                                  Traceback (most recent call last)",
            "\u001b[0;32m<ipython-input-71-89a57ad80e5b>\u001b[0m in \u001b[0;36m<module>\u001b[0;34m()\u001b[0m\n\u001b[1;32m     37\u001b[0m         \u001b[0mself\u001b[0m\u001b[0;34m.\u001b[0m\u001b[0mlabel2\u001b[0m\u001b[0;34m.\u001b[0m\u001b[0mgrid\u001b[0m\u001b[0;34m(\u001b[0m\u001b[0mcolumn\u001b[0m\u001b[0;34m=\u001b[0m\u001b[0;36m3\u001b[0m\u001b[0;34m,\u001b[0m \u001b[0mrow\u001b[0m\u001b[0;34m=\u001b[0m\u001b[0;36m4\u001b[0m\u001b[0;34m)\u001b[0m\u001b[0;34m\u001b[0m\u001b[0;34m\u001b[0m\u001b[0m\n\u001b[1;32m     38\u001b[0m \u001b[0;34m\u001b[0m\u001b[0m\n\u001b[0;32m---> 39\u001b[0;31m \u001b[0mroot\u001b[0m \u001b[0;34m=\u001b[0m \u001b[0mRoot\u001b[0m\u001b[0;34m(\u001b[0m\u001b[0;34m)\u001b[0m\u001b[0;34m\u001b[0m\u001b[0;34m\u001b[0m\u001b[0m\n\u001b[0m\u001b[1;32m     40\u001b[0m \u001b[0mroot\u001b[0m\u001b[0;34m.\u001b[0m\u001b[0mmainloop\u001b[0m\u001b[0;34m(\u001b[0m\u001b[0;34m)\u001b[0m\u001b[0;34m\u001b[0m\u001b[0;34m\u001b[0m\u001b[0m\n",
            "\u001b[0;32m<ipython-input-71-89a57ad80e5b>\u001b[0m in \u001b[0;36m__init__\u001b[0;34m(self)\u001b[0m\n\u001b[1;32m      7\u001b[0m \u001b[0;32mclass\u001b[0m \u001b[0mRoot\u001b[0m\u001b[0;34m(\u001b[0m\u001b[0mTk\u001b[0m\u001b[0;34m)\u001b[0m\u001b[0;34m:\u001b[0m\u001b[0;34m\u001b[0m\u001b[0;34m\u001b[0m\u001b[0m\n\u001b[1;32m      8\u001b[0m     \u001b[0;32mdef\u001b[0m \u001b[0m__init__\u001b[0m\u001b[0;34m(\u001b[0m\u001b[0mself\u001b[0m\u001b[0;34m)\u001b[0m\u001b[0;34m:\u001b[0m\u001b[0;34m\u001b[0m\u001b[0;34m\u001b[0m\u001b[0m\n\u001b[0;32m----> 9\u001b[0;31m         \u001b[0msuper\u001b[0m\u001b[0;34m(\u001b[0m\u001b[0mRoot\u001b[0m\u001b[0;34m,\u001b[0m \u001b[0mself\u001b[0m\u001b[0;34m)\u001b[0m\u001b[0;34m.\u001b[0m\u001b[0m__init__\u001b[0m\u001b[0;34m(\u001b[0m\u001b[0;34m)\u001b[0m\u001b[0;34m\u001b[0m\u001b[0;34m\u001b[0m\u001b[0m\n\u001b[0m\u001b[1;32m     10\u001b[0m         \u001b[0mself\u001b[0m\u001b[0;34m.\u001b[0m\u001b[0mtitle\u001b[0m\u001b[0;34m(\u001b[0m\u001b[0;34m\"Python Tkinter Dialog Widget\"\u001b[0m\u001b[0;34m)\u001b[0m\u001b[0;34m\u001b[0m\u001b[0;34m\u001b[0m\u001b[0m\n\u001b[1;32m     11\u001b[0m         \u001b[0mself\u001b[0m\u001b[0;34m.\u001b[0m\u001b[0mminsize\u001b[0m\u001b[0;34m(\u001b[0m\u001b[0;36m640\u001b[0m\u001b[0;34m,\u001b[0m \u001b[0;36m400\u001b[0m\u001b[0;34m)\u001b[0m\u001b[0;34m\u001b[0m\u001b[0;34m\u001b[0m\u001b[0m\n",
            "\u001b[0;32m/usr/lib/python3.6/tkinter/__init__.py\u001b[0m in \u001b[0;36m__init__\u001b[0;34m(self, screenName, baseName, className, useTk, sync, use)\u001b[0m\n\u001b[1;32m   2021\u001b[0m                 \u001b[0mbaseName\u001b[0m \u001b[0;34m=\u001b[0m \u001b[0mbaseName\u001b[0m \u001b[0;34m+\u001b[0m \u001b[0mext\u001b[0m\u001b[0;34m\u001b[0m\u001b[0;34m\u001b[0m\u001b[0m\n\u001b[1;32m   2022\u001b[0m         \u001b[0minteractive\u001b[0m \u001b[0;34m=\u001b[0m \u001b[0;36m0\u001b[0m\u001b[0;34m\u001b[0m\u001b[0;34m\u001b[0m\u001b[0m\n\u001b[0;32m-> 2023\u001b[0;31m         \u001b[0mself\u001b[0m\u001b[0;34m.\u001b[0m\u001b[0mtk\u001b[0m \u001b[0;34m=\u001b[0m \u001b[0m_tkinter\u001b[0m\u001b[0;34m.\u001b[0m\u001b[0mcreate\u001b[0m\u001b[0;34m(\u001b[0m\u001b[0mscreenName\u001b[0m\u001b[0;34m,\u001b[0m \u001b[0mbaseName\u001b[0m\u001b[0;34m,\u001b[0m \u001b[0mclassName\u001b[0m\u001b[0;34m,\u001b[0m \u001b[0minteractive\u001b[0m\u001b[0;34m,\u001b[0m \u001b[0mwantobjects\u001b[0m\u001b[0;34m,\u001b[0m \u001b[0museTk\u001b[0m\u001b[0;34m,\u001b[0m \u001b[0msync\u001b[0m\u001b[0;34m,\u001b[0m \u001b[0muse\u001b[0m\u001b[0;34m)\u001b[0m\u001b[0;34m\u001b[0m\u001b[0;34m\u001b[0m\u001b[0m\n\u001b[0m\u001b[1;32m   2024\u001b[0m         \u001b[0;32mif\u001b[0m \u001b[0museTk\u001b[0m\u001b[0;34m:\u001b[0m\u001b[0;34m\u001b[0m\u001b[0;34m\u001b[0m\u001b[0m\n\u001b[1;32m   2025\u001b[0m             \u001b[0mself\u001b[0m\u001b[0;34m.\u001b[0m\u001b[0m_loadtk\u001b[0m\u001b[0;34m(\u001b[0m\u001b[0;34m)\u001b[0m\u001b[0;34m\u001b[0m\u001b[0;34m\u001b[0m\u001b[0m\n",
            "\u001b[0;31mTclError\u001b[0m: no display name and no $DISPLAY environment variable"
          ]
        }
      ]
    },
    {
      "cell_type": "code",
      "metadata": {
        "id": "M12h-Izf6YHs",
        "colab_type": "code",
        "colab": {
          "resources": {
            "http://localhost:8080/nbextensions/google.colab/files.js": {
              "data": "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",
              "ok": true,
              "headers": [
                [
                  "content-type",
                  "application/javascript"
                ]
              ],
              "status": 200,
              "status_text": ""
            }
          },
          "base_uri": "https://localhost:8080/",
          "height": 74
        },
        "outputId": "d0073766-b82c-4a66-e6c1-0335402ad777"
      },
      "source": [
        "from google.colab import files\n",
        "uploaded = files.upload()"
      ],
      "execution_count": 74,
      "outputs": [
        {
          "output_type": "display_data",
          "data": {
            "text/html": [
              "\n",
              "     <input type=\"file\" id=\"files-a5108b6d-0b36-4c37-9763-f4c67522f91d\" name=\"files[]\" multiple disabled />\n",
              "     <output id=\"result-a5108b6d-0b36-4c37-9763-f4c67522f91d\">\n",
              "      Upload widget is only available when the cell has been executed in the\n",
              "      current browser session. Please rerun this cell to enable.\n",
              "      </output>\n",
              "      <script src=\"/nbextensions/google.colab/files.js\"></script> "
            ],
            "text/plain": [
              "<IPython.core.display.HTML object>"
            ]
          },
          "metadata": {
            "tags": []
          }
        },
        {
          "output_type": "stream",
          "text": [
            "Saving 0001.png to 0001.png\n"
          ],
          "name": "stdout"
        }
      ]
    },
    {
      "cell_type": "code",
      "metadata": {
        "id": "xTojU4Ha7UVE",
        "colab_type": "code",
        "colab": {
          "base_uri": "https://localhost:8080/",
          "height": 51
        },
        "outputId": "f607f4fd-0356-44c0-8bc4-e885e77c52fb"
      },
      "source": [
        "for key in uploaded:\n",
        "    print (key)"
      ],
      "execution_count": 83,
      "outputs": [
        {
          "output_type": "stream",
          "text": [
            "0001.png\n",
            "ERROR! Session/line number was not unique in database. History logging moved to new session 73\n"
          ],
          "name": "stdout"
        }
      ]
    },
    {
      "cell_type": "code",
      "metadata": {
        "id": "0Cm7U28C8q4i",
        "colab_type": "code",
        "colab": {
          "base_uri": "https://localhost:8080/",
          "height": 217
        },
        "outputId": "3cdf878b-67b8-4ebb-fc03-ce21188bf083"
      },
      "source": [
        "from IPython.display import Image\n",
        "Image('0001.png', width = 200)"
      ],
      "execution_count": 90,
      "outputs": [
        {
          "output_type": "execute_result",
          "data": {
            "image/png": "[encoded data removed]",
            "text/plain": [
              "<IPython.core.display.Image object>"
            ]
          },
          "metadata": {
            "tags": [],
            "image/png": {
              "width": 200
            }
          },
          "execution_count": 90
        }
      ]
    }
  ]
}