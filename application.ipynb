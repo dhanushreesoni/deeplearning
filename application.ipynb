{
 "cells": [
  {
   "cell_type": "code",
   "execution_count": 1,
   "metadata": {},
   "outputs": [],
   "source": [
    "from PyQt5 import QtGui\n",
    "from PyQt5.QtWidgets import QApplication, QWidget, QVBoxLayout, QPushButton, QFileDialog , QLabel, QTextEdit, QMainWindow, QApplication, QAction, QLineEdit, QMessageBox\n",
    "from PyQt5.QtGui import QIcon\n",
    "from PyQt5.QtCore import pyqtSlot\n",
    "import sys\n",
    " \n",
    "from PyQt5.QtGui import QPixmap"
   ]
  },
  {
   "cell_type": "code",
   "execution_count": 2,
   "metadata": {},
   "outputs": [
    {
     "name": "stderr",
     "output_type": "stream",
     "text": [
      "Using TensorFlow backend.\n"
     ]
    }
   ],
   "source": [
    "from keras.models import Sequential, load_model"
   ]
  },
  {
   "cell_type": "code",
   "execution_count": 3,
   "metadata": {},
   "outputs": [],
   "source": [
    "model = load_model('model_test1.h5')"
   ]
  },
  {
   "cell_type": "code",
   "execution_count": 4,
   "metadata": {},
   "outputs": [],
   "source": [
    "from keras.preprocessing.image import load_img\n",
    "from keras.preprocessing.image import img_to_array"
   ]
  },
  {
   "cell_type": "code",
   "execution_count": 5,
   "metadata": {},
   "outputs": [],
   "source": [
    "class Window(QWidget):\n",
    "    def __init__(self):\n",
    "        super().__init__()\n",
    " \n",
    "        self.title = \"PyQt5 Open File\"\n",
    "        self.top = 200\n",
    "        self.left = 500\n",
    "        self.width = 400\n",
    "        self.height = 300\n",
    " \n",
    " \n",
    "        self.InitWindow()\n",
    " \n",
    " \n",
    "    def InitWindow(self):\n",
    "        self.setWindowIcon(QtGui.QIcon(\"icon.png\"))\n",
    "        self.setWindowTitle(self.title)\n",
    "        self.setGeometry(self.left, self.top, self.width, self.height)\n",
    " \n",
    "        vbox = QVBoxLayout()\n",
    " \n",
    "        self.btn1 = QPushButton(\"Open Image\")\n",
    "        self.btn1.clicked.connect(self.getImage)\n",
    "\n",
    "        vbox.addWidget(self.btn1)\n",
    " \n",
    "        self.label = QLabel(\"Hello\")\n",
    "        vbox.addWidget(self.label)\n",
    " \n",
    "        \n",
    " \n",
    " \n",
    "        self.setLayout(vbox)\n",
    " \n",
    "        self.show()\n",
    "\n",
    "    imagePath=''\n",
    "    def getImage(self):\n",
    "        fname = QFileDialog.getOpenFileName(self, 'Open file')\n",
    "        imagePath = fname[0]\n",
    "        print(imagePath)\n",
    "        target_names = ['Sky', 'Pattern', 'Thich Dark','Thick White','Veil']\n",
    "        test_image = imagePath\n",
    "        img = load_img(test_image, target_size=(125, 125, 1))\n",
    "        img = img_to_array(img)\n",
    "        img = img.reshape(1, 125, 125, 3)\n",
    "        \n",
    "        QMessageBox.question(self, 'classification', \"calssified as\" + target_names[model.predict_classes(img)[0]], QMessageBox.Ok, QMessageBox.Ok)\n",
    "        self.textbox.setText(\"\")\n",
    "        pixmap = QPixmap(imagePath)\n",
    "        self.label.setPixmap(QPixmap(pixmap))\n",
    "        self.resize(pixmap.width(), pixmap.height())\n",
    "        self.btn2 = QPushButton(\"click to classify\")\n",
    "        self.btn1.clicked.connect(self.on_click)\n",
    "    \n",
    "    def on_click(self):\n",
    "        target_names = ['Sky', 'Pattern', 'Thich Dark','Thick White','Veil']\n",
    "        test_image = imagePath\n",
    "        img = load_img(test_image, target_size=(125, 125, 1))\n",
    "        img = img_to_array(img)\n",
    "        img = img.reshape(1, 125, 125, 3)\n",
    "        \n",
    "        QMessageBox.question(self, 'classification', \"calssified as\" + target_names[model.predict_classes(img)[0]], QMessageBox.Ok, QMessageBox.Ok)\n",
    "        self.textbox.setText(\"\")"
   ]
  },
  {
   "cell_type": "code",
   "execution_count": null,
   "metadata": {},
   "outputs": [
    {
     "name": "stdout",
     "output_type": "stream",
     "text": [
      "E:/Study/practise/project/dhanu_shree/data/A_1img.png\n"
     ]
    },
    {
     "ename": "AttributeError",
     "evalue": "'Window' object has no attribute 'textbox'",
     "output_type": "error",
     "traceback": [
      "\u001b[1;31m---------------------------------------------------------------------------\u001b[0m",
      "\u001b[1;31mAttributeError\u001b[0m                            Traceback (most recent call last)",
      "\u001b[1;32m<ipython-input-5-8e2b63373735>\u001b[0m in \u001b[0;36mgetImage\u001b[1;34m(self)\u001b[0m\n\u001b[0;32m     47\u001b[0m \u001b[1;33m\u001b[0m\u001b[0m\n\u001b[0;32m     48\u001b[0m         \u001b[0mQMessageBox\u001b[0m\u001b[1;33m.\u001b[0m\u001b[0mquestion\u001b[0m\u001b[1;33m(\u001b[0m\u001b[0mself\u001b[0m\u001b[1;33m,\u001b[0m \u001b[1;34m'classification'\u001b[0m\u001b[1;33m,\u001b[0m \u001b[1;34m\"calssified as\"\u001b[0m \u001b[1;33m+\u001b[0m \u001b[0mtarget_names\u001b[0m\u001b[1;33m[\u001b[0m\u001b[0mmodel\u001b[0m\u001b[1;33m.\u001b[0m\u001b[0mpredict_classes\u001b[0m\u001b[1;33m(\u001b[0m\u001b[0mimg\u001b[0m\u001b[1;33m)\u001b[0m\u001b[1;33m[\u001b[0m\u001b[1;36m0\u001b[0m\u001b[1;33m]\u001b[0m\u001b[1;33m]\u001b[0m\u001b[1;33m,\u001b[0m \u001b[0mQMessageBox\u001b[0m\u001b[1;33m.\u001b[0m\u001b[0mOk\u001b[0m\u001b[1;33m,\u001b[0m \u001b[0mQMessageBox\u001b[0m\u001b[1;33m.\u001b[0m\u001b[0mOk\u001b[0m\u001b[1;33m)\u001b[0m\u001b[1;33m\u001b[0m\u001b[1;33m\u001b[0m\u001b[0m\n\u001b[1;32m---> 49\u001b[1;33m         \u001b[0mself\u001b[0m\u001b[1;33m.\u001b[0m\u001b[0mtextbox\u001b[0m\u001b[1;33m.\u001b[0m\u001b[0msetText\u001b[0m\u001b[1;33m(\u001b[0m\u001b[1;34m\"\"\u001b[0m\u001b[1;33m)\u001b[0m\u001b[1;33m\u001b[0m\u001b[1;33m\u001b[0m\u001b[0m\n\u001b[0m\u001b[0;32m     50\u001b[0m         \u001b[0mpixmap\u001b[0m \u001b[1;33m=\u001b[0m \u001b[0mQPixmap\u001b[0m\u001b[1;33m(\u001b[0m\u001b[0mimagePath\u001b[0m\u001b[1;33m)\u001b[0m\u001b[1;33m\u001b[0m\u001b[1;33m\u001b[0m\u001b[0m\n\u001b[0;32m     51\u001b[0m         \u001b[0mself\u001b[0m\u001b[1;33m.\u001b[0m\u001b[0mlabel\u001b[0m\u001b[1;33m.\u001b[0m\u001b[0msetPixmap\u001b[0m\u001b[1;33m(\u001b[0m\u001b[0mQPixmap\u001b[0m\u001b[1;33m(\u001b[0m\u001b[0mpixmap\u001b[0m\u001b[1;33m)\u001b[0m\u001b[1;33m)\u001b[0m\u001b[1;33m\u001b[0m\u001b[1;33m\u001b[0m\u001b[0m\n",
      "\u001b[1;31mAttributeError\u001b[0m: 'Window' object has no attribute 'textbox'"
     ]
    }
   ],
   "source": [
    "App = QApplication(sys.argv)\n",
    "window = Window()\n",
    "sys.exit(App.exec())"
   ]
  },
  {
   "cell_type": "code",
   "execution_count": null,
   "metadata": {},
   "outputs": [],
   "source": []
  }
 ],
 "metadata": {
  "kernelspec": {
   "display_name": "Python 3",
   "language": "python",
   "name": "python3"
  },
  "language_info": {
   "codemirror_mode": {
    "name": "ipython",
    "version": 3
   },
   "file_extension": ".py",
   "mimetype": "text/x-python",
   "name": "python",
   "nbconvert_exporter": "python",
   "pygments_lexer": "ipython3",
   "version": "3.7.1"
  }
 },
 "nbformat": 4,
 "nbformat_minor": 2
}
